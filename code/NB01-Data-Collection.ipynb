{
 "cells": [
  {
   "cell_type": "markdown",
   "metadata": {},
   "source": [
    "# 🎼 NB01: Data Collection"
   ]
  },
  {
   "cell_type": "markdown",
   "metadata": {},
   "source": [
    "In this notebook, I will be mainly testing using my access token and obtaining data through different endpoints (alongside observing their outputs to get a sense of how I can use them) from the Spotify API and Genius API."
   ]
  },
  {
   "cell_type": "code",
   "execution_count": null,
   "metadata": {},
   "outputs": [],
   "source": [
    "# Importing the necessary libraries\n",
    "from dotenv import load_dotenv\n",
    "from functions import *\n",
    "from bs4 import BeautifulSoup\n",
    "from pprint import pprint\n",
    "from auth import *\n",
    "import pandas as pd\n",
    "import json\n",
    "import lyricsgenius"
   ]
  },
  {
   "cell_type": "code",
   "execution_count": 2,
   "metadata": {},
   "outputs": [],
   "source": [
    "# Defining access_token through calling the get_token() function\n",
    "access_token = get_token()"
   ]
  },
  {
   "cell_type": "code",
   "execution_count": null,
   "metadata": {},
   "outputs": [
    {
     "name": "stdout",
     "output_type": "stream",
     "text": [
      "{'artists': {'href': 'https://api.spotify.com/v1/search?offset=0&limit=1&query=Taylor%20Swift&type=artist', 'limit': 1, 'next': 'https://api.spotify.com/v1/search?offset=1&limit=1&query=Taylor%20Swift&type=artist', 'offset': 0, 'previous': None, 'total': 814, 'items': [{'external_urls': {'spotify': 'https://open.spotify.com/artist/06HL4z0CvFAxyc27GXpf02'}, 'followers': {'href': None, 'total': 126975036}, 'genres': ['pop'], 'href': 'https://api.spotify.com/v1/artists/06HL4z0CvFAxyc27GXpf02', 'id': '06HL4z0CvFAxyc27GXpf02', 'images': [{'url': 'https://i.scdn.co/image/ab6761610000e5ebe672b5f553298dcdccb0e676', 'height': 640, 'width': 640}, {'url': 'https://i.scdn.co/image/ab67616100005174e672b5f553298dcdccb0e676', 'height': 320, 'width': 320}, {'url': 'https://i.scdn.co/image/ab6761610000f178e672b5f553298dcdccb0e676', 'height': 160, 'width': 160}], 'name': 'Taylor Swift', 'popularity': 100, 'type': 'artist', 'uri': 'spotify:artist:06HL4z0CvFAxyc27GXpf02'}]}}\n"
     ]
    }
   ],
   "source": [
    "# Testing the search_artist() function and printing the data - testing whether the token and API calling works\n",
    "artist_data = search_artist(\"Taylor Swift\", access_token)"
   ]
  },
  {
   "cell_type": "markdown",
   "metadata": {},
   "source": [
    "#### Working on the Question - Top Hits Playlist"
   ]
  },
  {
   "cell_type": "markdown",
   "metadata": {},
   "source": [
    "Here, I am gathering data from the Spotify user-created playlist \"Pop Hits 2000s-2024\""
   ]
  },
  {
   "cell_type": "code",
   "execution_count": null,
   "metadata": {},
   "outputs": [],
   "source": [
    "# Getting playlist items from the Spotify API\n",
    "# Doing this in 3 steps, as the API only allows 100 items per call\n",
    "top_hits = get_playlist_items(\"6mtYuOxzl58vSGnEDtZ9uB\", \"items(track.artists.name, track.name, track.id)\", \"GB\", 100, 0, access_token)\n",
    "top_hits2 = get_playlist_items(\"6mtYuOxzl58vSGnEDtZ9uB\", \"items(track.artists.name, track.name, track.id)\", \"GB\", 100, 100, access_token)\n",
    "top_hits3 = get_playlist_items(\"6mtYuOxzl58vSGnEDtZ9uB\", \"items(track.artists.name, track.name, track.id)\", \"GB\", 100, 200, access_token)"
   ]
  },
  {
   "cell_type": "code",
   "execution_count": 5,
   "metadata": {},
   "outputs": [],
   "source": [
    "with open(\"../data/raw/top_hits.json\", \"w\", encoding=\"utf-8\") as f:\n",
    "    json.dump(top_hits, f, ensure_ascii=False, indent=4)\n",
    "\n",
    "with open(\"../data/raw/top_hits2.json\", \"w\", encoding=\"utf-8\") as f:\n",
    "    json.dump(top_hits2, f, ensure_ascii=False, indent=4)\n",
    "\n",
    "with open(\"../data/raw/top_hits3.json\", \"w\", encoding=\"utf-8\") as f:\n",
    "    json.dump(top_hits3, f, ensure_ascii=False, indent=4)\n",
    "\n",
    "with open(\"../data/raw/top_hits.json\", \"r\") as f1, open(\"../data/raw/top_hits2.json\", \"r\") as f2, open(\"../data/raw/top_hits3.json\", \"r\") as f3:\n",
    "    json1 = json.load(f1)\n",
    "    json2 = json.load(f2)\n",
    "    json3 = json.load(f3)\n",
    "\n",
    "combined_items = json1[\"items\"] + json2[\"items\"] + json3[\"items\"]\n",
    "\n",
    "combined_json = {\"items\": combined_items}\n",
    "\n",
    "with open(\"../data/raw/combined_top_hits.json\", \"w\") as output_file:\n",
    "    json.dump(combined_json, output_file, indent=2)"
   ]
  },
  {
   "cell_type": "markdown",
   "metadata": {},
   "source": [
    "#### Working on the Question - Girly Pop Music Playlist"
   ]
  },
  {
   "cell_type": "markdown",
   "metadata": {},
   "source": [
    "I am moving on to user-created Spotify playlist \"girly pop songs\" - a playlist I chose to collect data from due to its userbase popularity with 39,000 saves and diverse, popular, and more current/relevant tracks and artists \n",
    "\n",
    "For example, despite Sabrina Carpenter's current popularity, she didn't feature much on the Pop Hits playlist, possibly due to user-creation bias. My initial goal was to use Spotify-created playlists to avoid this. However, due to the new API restrictions, this wasn't possible and I aimed to diversify my dataset by using two different playlists. "
   ]
  },
  {
   "cell_type": "code",
   "execution_count": null,
   "metadata": {},
   "outputs": [],
   "source": [
    "# Getting playlist items from the Spotify API for \"girly pop songs\"\n",
    "# Once again doing this in 3 steps as the API only allows 100 items per call\n",
    "women_in_pop_data = get_playlist_items(\"06fIJ0Q8SkYruBcJX2M6C8\", \"items(track.artists.name, track.name, track.id)\", \"GB\", 100, 0, access_token)\n",
    "women_in_pop_data2 = get_playlist_items(\"06fIJ0Q8SkYruBcJX2M6C8\", \"items(track.artists.name, track.name, track.id)\", \"GB\", 100, 100, access_token)\n",
    "women_in_pop_data3 = get_playlist_items(\"06fIJ0Q8SkYruBcJX2M6C8\", \"items(track.artists.name, track.name, track.id)\", \"GB\", 100, 200, access_token)"
   ]
  },
  {
   "cell_type": "code",
   "execution_count": 7,
   "metadata": {},
   "outputs": [],
   "source": [
    "with open(\"../data/raw/women_pop.json\", \"w\", encoding=\"utf-8\") as f:\n",
    "    json.dump(women_in_pop_data, f, ensure_ascii=False, indent=4)\n",
    "\n",
    "with open(\"../data/raw/women_pop2.json\", \"w\", encoding=\"utf-8\") as f:\n",
    "    json.dump(women_in_pop_data2, f, ensure_ascii=False, indent=4)\n",
    "\n",
    "with open(\"../data/raw/women_pop3.json\", \"w\", encoding=\"utf-8\") as f:\n",
    "    json.dump(women_in_pop_data3, f, ensure_ascii=False, indent=4)\n",
    "\n",
    "with open(\"../data/raw/women_pop.json\", \"r\") as f1, open(\"../data/raw/women_pop2.json\", \"r\") as f2, open(\"../data/raw/women_pop3.json\", \"r\") as f3:\n",
    "    json1 = json.load(f1)\n",
    "    json2 = json.load(f2)\n",
    "    json3 = json.load(f3)\n",
    "\n",
    "combined_items = json1[\"items\"] + json2[\"items\"] + json3[\"items\"]\n",
    "\n",
    "combined_json = {\"items\": combined_items}\n",
    "\n",
    "with open(\"../data/raw/combined_women_pop.json\", \"w\") as output_file:\n",
    "    json.dump(combined_json, output_file, indent=2)"
   ]
  },
  {
   "cell_type": "markdown",
   "metadata": {},
   "source": [
    "### Testing the endpoints, Spotfiy API functions, and Genius API functions"
   ]
  },
  {
   "cell_type": "markdown",
   "metadata": {},
   "source": [
    "I have collected my raw data that I will process and supplement with lyrics data in NB02. Here, I wanted to test some endpoints that I plan on using for the next steps of my analysis."
   ]
  },
  {
   "cell_type": "code",
   "execution_count": 8,
   "metadata": {},
   "outputs": [
    {
     "data": {
      "text/plain": [
       "'https://genius.com/Sabrina-carpenter-please-please-please-lyrics'"
      ]
     },
     "execution_count": 8,
     "metadata": {},
     "output_type": "execute_result"
    }
   ],
   "source": [
    "# Testing the search_song() function/output, alongside the Genius API access token\n",
    "search_song(\"Please Please Please\", access_token2)"
   ]
  },
  {
   "cell_type": "code",
   "execution_count": 9,
   "metadata": {},
   "outputs": [],
   "source": [
    "genius = lyricsgenius.Genius(access_token2, remove_section_headers=True, skip_non_songs=True)"
   ]
  },
  {
   "cell_type": "code",
   "execution_count": 10,
   "metadata": {},
   "outputs": [],
   "source": [
    "artist = \"Taylor Swift\"\n",
    "nb_songs = 1\n",
    "langage = \"english\""
   ]
  },
  {
   "cell_type": "code",
   "execution_count": 16,
   "metadata": {},
   "outputs": [
    {
     "name": "stdout",
     "output_type": "stream",
     "text": [
      "Searching for songs by Taylor Swift...\n",
      "\n",
      "Song 1: \"All Too Well (10 Minute Version) (Taylor’s Version) [From The Vault]\"\n",
      "\n",
      "Reached user-specified song limit (1).\n",
      "Done. Found 1 songs.\n"
     ]
    }
   ],
   "source": [
    "artist_genius = genius.search_artist(artist, max_songs=nb_songs, sort='popularity')\n",
    "\n",
    "songs_data = [(song.title, song.lyrics) for song in artist_genius.songs if song is not None]\n",
    "\n",
    "songs_df = pd.DataFrame(songs_data, columns=['Title', 'Lyrics'])"
   ]
  },
  {
   "cell_type": "code",
   "execution_count": 17,
   "metadata": {},
   "outputs": [],
   "source": [
    "data = pd.DataFrame({'artist':artist, 'title':titles, 'lyrics':lyrics})"
   ]
  },
  {
   "cell_type": "code",
   "execution_count": null,
   "metadata": {},
   "outputs": [
    {
     "name": "stdout",
     "output_type": "stream",
     "text": [
      "Searching for \"Von dutch\" by Charli XCX...\n",
      "Done.\n",
      "103 ContributorsTranslationsPortuguêsDeutschBahasa IndonesiaУкраїнськаRomânăРусскийTürkçePolskiEspañolItalianoHebrewFrançaisΕλληνικάVon dutch Lyrics[Verse]\n",
      "It's okay to just admit that you're jealous of me\n",
      "Yeah, I heard you talk about me, that's the word on the street\n",
      "You're obsessing, just confess it, put your hands up\n",
      "It's obvious I'm your number one\n",
      "\n",
      "[Pre-Chorus]\n",
      "It's alright to just admit that I'm the fantasy\n",
      "You're obsessing, just confess it 'cause it's obvious\n",
      "I'm your number one, I'm your number one\n",
      "I'm your number one, yeah\n",
      "\n",
      "[Chorus]\n",
      "I'm just living that life\n",
      "Von Dutch, cult classic, but I still pop\n",
      "I get money, you get mad because the bank's shut\n",
      "Yeah, I know your little secret, put your hands up\n",
      "It's so obvious I'm your number one, life\n",
      "Von Dutch, cult classic in your eardrums\n",
      "Why you lying? You won't fuck unless he famous\n",
      "Do that littlе dance, without it, you'd be namelеss\n",
      "It's so obvious I'm your number one\n",
      "\n",
      "[Post-Chorus]\n",
      "I'm your number one, I'm your number one\n",
      "I'm your number one, yeah, it's so obvious\n",
      "I'm your number one, I'm your number one\n",
      "I'm your number one, yeah, it's so obvious\n",
      "See Charli xcx LiveGet tickets as low as $90You might also like[Pre-Chorus]\n",
      "It's okay to just admit that you're jealous of me\n",
      "You're obsessing, just confess it 'cause it's obvious\n",
      "I'm your number one, I'm your number one\n",
      "I'm your number one, I'm your number one\n",
      "I'm your number one, your number one\n",
      "Your number one, your number one\n",
      "\n",
      "[Chorus]\n",
      "I'm just living that life\n",
      "Von Dutch, cult classic, but I still pop\n",
      "I get money, you get mad because the bank's shut (Bank's shut)\n",
      "Yeah, I know your little secret, put your hands up\n",
      "It's so obvious, I'm your number one, life\n",
      "Von Dutch, cult classic in your eardrums\n",
      "Why you lying? You won't fuck unless he famous (He's famous)\n",
      "Do that little dance, without it, you'd be nameless\n",
      "It's so obvious, I'm your number one\n",
      "\n",
      "[Bridge]\n",
      "I'm your number one\n",
      "Your number one, your number one\n",
      "Your number one, your number one\n",
      "Your number one, your number one\n",
      "Your number one, your number one, yeah\n",
      "[Chorus]\n",
      "I'm just living that life\n",
      "Von Dutch, cult classic, but I still pop\n",
      "I get money, you get mad because the bank's shut\n",
      "Yeah, I know your little secret, put your hands up\n",
      "It's so obvious I'm your number one\n",
      "\n",
      "[Outro]\n",
      "I'm the one, your number one\n",
      "Your number one, your number one8Embed\n"
     ]
    }
   ],
   "source": [
    "# Calling the get_song_lyrics() function to get the lyrics of a song\n",
    "# Using the Genius API endpoint \"get songs\" to get Genius URLs, webscraping Genius to get the lyrics to songs\n",
    "lyrics = get_song_lyrics(\"Von dutch\", \"Charli XCX\")"
   ]
  },
  {
   "cell_type": "markdown",
   "metadata": {},
   "source": [
    "Click [here](https://github.com/lse-ds105/w10-summative-deyavuz/tree/main?tab=readme-ov-file#table-of-contents) to navigate back to the Table of Contents!"
   ]
  }
 ],
 "metadata": {
  "kernelspec": {
   "display_name": "base",
   "language": "python",
   "name": "python3"
  },
  "language_info": {
   "codemirror_mode": {
    "name": "ipython",
    "version": 3
   },
   "file_extension": ".py",
   "mimetype": "text/x-python",
   "name": "python",
   "nbconvert_exporter": "python",
   "pygments_lexer": "ipython3",
   "version": "3.12.2"
  }
 },
 "nbformat": 4,
 "nbformat_minor": 2
}
