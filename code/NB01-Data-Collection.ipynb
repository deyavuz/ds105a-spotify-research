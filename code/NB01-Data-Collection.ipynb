{
 "cells": [
  {
   "cell_type": "markdown",
   "metadata": {},
   "source": [
    "# NB01: Data Collection"
   ]
  },
  {
   "cell_type": "code",
   "execution_count": 160,
   "metadata": {},
   "outputs": [],
   "source": [
    "import requests\n",
    "from dotenv import load_dotenv\n",
    "from functions import *\n",
    "from bs4 import BeautifulSoup\n",
    "import os\n",
    "import pandas as pd\n",
    "import json\n",
    "import csv\n",
    "import string\n",
    "import lyricsgenius"
   ]
  },
  {
   "cell_type": "code",
   "execution_count": 14,
   "metadata": {},
   "outputs": [
    {
     "data": {
      "text/plain": [
       "True"
      ]
     },
     "execution_count": 14,
     "metadata": {},
     "output_type": "execute_result"
    }
   ],
   "source": [
    "load_dotenv()"
   ]
  },
  {
   "cell_type": "code",
   "execution_count": 15,
   "metadata": {},
   "outputs": [],
   "source": [
    "client_id = os.getenv(\"CLIENT_ID\")\n",
    "client_secret = os.getenv(\"CLIENT_SECRET\")"
   ]
  },
  {
   "cell_type": "code",
   "execution_count": 16,
   "metadata": {},
   "outputs": [],
   "source": [
    "auth_url = \"https://accounts.spotify.com/api/token\"\n",
    "\n",
    "data = {\n",
    "    'grant_type': 'client_credentials',\n",
    "    'client_id': client_id,\n",
    "    'client_secret': client_secret,\n",
    "}\n",
    "\n",
    "auth_response = requests.post(auth_url, data = data)"
   ]
  },
  {
   "cell_type": "code",
   "execution_count": 17,
   "metadata": {},
   "outputs": [],
   "source": [
    "access_token = auth_response.json().get('access_token')"
   ]
  },
  {
   "cell_type": "code",
   "execution_count": 121,
   "metadata": {},
   "outputs": [
    {
     "data": {
      "text/plain": [
       "'BQC-7IKAqZm76XsoiUft35Nb-2tvBlWv_FNuWfrZQnrhuCRxpKYqjvlgq_BAOW5uyEJqtK8C3NbJbacwFlKPpGpUttwM2QbmHB8P4zbqcIGN1AyGgR0'"
      ]
     },
     "execution_count": 121,
     "metadata": {},
     "output_type": "execute_result"
    }
   ],
   "source": [
    "access_token"
   ]
  },
  {
   "cell_type": "code",
   "execution_count": 19,
   "metadata": {},
   "outputs": [
    {
     "name": "stdout",
     "output_type": "stream",
     "text": [
      "{'artists': {'href': 'https://api.spotify.com/v1/search?offset=0&limit=1&query=Taylor%20Swift&type=artist', 'limit': 1, 'next': 'https://api.spotify.com/v1/search?offset=1&limit=1&query=Taylor%20Swift&type=artist', 'offset': 0, 'previous': None, 'total': 814, 'items': [{'external_urls': {'spotify': 'https://open.spotify.com/artist/06HL4z0CvFAxyc27GXpf02'}, 'followers': {'href': None, 'total': 126740063}, 'genres': ['pop'], 'href': 'https://api.spotify.com/v1/artists/06HL4z0CvFAxyc27GXpf02', 'id': '06HL4z0CvFAxyc27GXpf02', 'images': [{'url': 'https://i.scdn.co/image/ab6761610000e5ebe672b5f553298dcdccb0e676', 'height': 640, 'width': 640}, {'url': 'https://i.scdn.co/image/ab67616100005174e672b5f553298dcdccb0e676', 'height': 320, 'width': 320}, {'url': 'https://i.scdn.co/image/ab6761610000f178e672b5f553298dcdccb0e676', 'height': 160, 'width': 160}], 'name': 'Taylor Swift', 'popularity': 100, 'type': 'artist', 'uri': 'spotify:artist:06HL4z0CvFAxyc27GXpf02'}]}}\n"
     ]
    }
   ],
   "source": [
    "artist_data = search_artist(\"Taylor Swift\", access_token)\n",
    "print(artist_data)"
   ]
  },
  {
   "cell_type": "code",
   "execution_count": 20,
   "metadata": {},
   "outputs": [
    {
     "name": "stdout",
     "output_type": "stream",
     "text": [
      "{'requested_markets': 'TR', 'available_markets': ['TR']}\n"
     ]
    }
   ],
   "source": [
    "market_data = get_target_market(\"TR\", access_token)\n",
    "print(market_data)"
   ]
  },
  {
   "cell_type": "code",
   "execution_count": 41,
   "metadata": {},
   "outputs": [],
   "source": [
    "def get_featured_playlists(locale, limit, offset, token):\n",
    "  \n",
    "  url = f\"https://api.spotify.com/v1/browse/featured-playlists\"\n",
    "  headers = {\n",
    "        'Authorization': f'Bearer {token}',\n",
    "    }\n",
    "  params = {\n",
    "    \"limit\": limit,\n",
    "    \"offset\": offset,\n",
    "    \"locale\": locale\n",
    "    \n",
    "  }\n",
    "  \n",
    "  response = requests.get(url, headers=headers, params=params)  \n",
    "  return response.json()  \n"
   ]
  },
  {
   "cell_type": "code",
   "execution_count": 42,
   "metadata": {},
   "outputs": [
    {
     "data": {
      "text/plain": [
       "{'error': {'status': 404, 'message': 'Not Found'}}"
      ]
     },
     "execution_count": 42,
     "metadata": {},
     "output_type": "execute_result"
    }
   ],
   "source": [
    "get_featured_playlists(\"tr_TR\", 10, 0, access_token)"
   ]
  },
  {
   "cell_type": "code",
   "execution_count": null,
   "metadata": {},
   "outputs": [],
   "source": [
    "#def get_featured_playlists(locale, limit, offset, token):\n",
    "    \n",
    "    url = f\"https://api.spotify.com/v1/browse/featured-playlists\"\n",
    "\n",
    "    headers = {\n",
    "        'Authorization': f'Bearer {token}',\n",
    "    }\n",
    "    # Set the query parameters\n",
    "    params = {\n",
    "        'locale': locale,  # e.g., 'tr_TR'\n",
    "        'limit': limit,    # Number of items to return\n",
    "        'offset': offset   # Pagination index\n",
    "    }\n",
    "\n",
    "    # Send GET request to Spotify API\n",
    "    response = requests.get(url, headers=headers, params=params)\n",
    "\n",
    "    # Check if the request was successful\n",
    "    if response.status_code == 200:\n",
    "        return response.json()  # Return the JSON data as a dictionary\n",
    "    else:\n",
    "        return {\"error\": \"Failed to fetch data\", \"status_code\": response.status_code}\n"
   ]
  },
  {
   "cell_type": "code",
   "execution_count": 39,
   "metadata": {},
   "outputs": [
    {
     "data": {
      "text/plain": [
       "{'error': {'status': 404, 'message': 'Not Found'}}"
      ]
     },
     "execution_count": 39,
     "metadata": {},
     "output_type": "execute_result"
    }
   ],
   "source": [
    "get_featured_playlists(\"tr_TR\", 10, 0, access_token)"
   ]
  },
  {
   "cell_type": "code",
   "execution_count": 40,
   "metadata": {},
   "outputs": [
    {
     "data": {
      "text/plain": [
       "{'error': {'status': 404, 'message': 'Not Found'}}"
      ]
     },
     "execution_count": 40,
     "metadata": {},
     "output_type": "execute_result"
    }
   ],
   "source": [
    "get_featured_playlists(\"tr_TR\", 10, 0, access_token)"
   ]
  },
  {
   "cell_type": "code",
   "execution_count": null,
   "metadata": {},
   "outputs": [],
   "source": [
    "def get_categories(locale, limit, offset, token):\n",
    "  \n",
    "  url = \"https://api.spotify.com/v1/browse/categories\"\n",
    "  headers = {\n",
    "        'Authorization': f'Bearer {token}',\n",
    "    }\n",
    "  params = {\n",
    "    \"locale\": locale,\n",
    "    \"limit\": limit,\n",
    "    \"offset\": offset\n",
    "  }\n",
    "  \n",
    "  response = requests.get(url, headers=headers, params=params)  \n",
    "  return response.json()  "
   ]
  },
  {
   "cell_type": "markdown",
   "metadata": {},
   "source": [
    "POP QUESTION"
   ]
  },
  {
   "cell_type": "code",
   "execution_count": null,
   "metadata": {},
   "outputs": [],
   "source": [
    "def get_playlist_items(playlist_id, market, fields, limit, token):\n",
    "    \n",
    "    url = f\"https://api.spotify.com/v1/playlists/{playlist_id}/tracks\"\n",
    "    headers = {\n",
    "        'Authorization': f'Bearer {token}',\n",
    "    }\n",
    "    params = {\n",
    "        'market': market,\n",
    "        'fields': fields,\n",
    "        'limit': limit\n",
    "    }\n",
    "\n",
    "    response = requests.get(url, headers=headers, params=params)\n",
    "    return response.json()  \n"
   ]
  },
  {
   "cell_type": "code",
   "execution_count": null,
   "metadata": {},
   "outputs": [],
   "source": [
    "top_hits_data = get_playlist_items(\"37i9dQZF1DXcBWIGoYBM5M\", \"GB\", \"items(track.artists.name, track.name, track.id)\", 60, access_token)"
   ]
  },
  {
   "cell_type": "code",
   "execution_count": null,
   "metadata": {},
   "outputs": [],
   "source": [
    "with open(\"../data/raw/top_hits.json\", \"w\", encoding=\"utf-8\") as f:\n",
    "    json.dump(top_hits_data, f, ensure_ascii=False, indent=4)"
   ]
  },
  {
   "cell_type": "code",
   "execution_count": null,
   "metadata": {},
   "outputs": [],
   "source": [
    "women_in_pop_data = get_playlist_items(\"37i9dQZF1DX3WvGXE8FqYX\", \"GB\", \"items(track.artists.name, track.name, track.id)\", 75, access_token)"
   ]
  },
  {
   "cell_type": "code",
   "execution_count": null,
   "metadata": {},
   "outputs": [],
   "source": [
    "with open(\"../data/raw/women_pop.json\", \"w\", encoding=\"utf-8\") as f:\n",
    "    json.dump(women_in_pop_data, f, ensure_ascii=False, indent=4)"
   ]
  },
  {
   "cell_type": "code",
   "execution_count": 96,
   "metadata": {},
   "outputs": [],
   "source": [
    "def fetch_lyrics(title):\n",
    "    # Replace spaces with \"+\" to make the title URL-friendly\n",
    "    query_title = title.replace(\" \", \"+\")\n",
    "    url = f\"https://some-random-api.com/lyrics\"\n",
    "    \n",
    "    params = {\n",
    "        'title': title\n",
    "    }\n",
    "\n",
    "    response = requests.get(url, params=params)\n",
    "    return response.json()  "
   ]
  },
  {
   "cell_type": "code",
   "execution_count": 116,
   "metadata": {},
   "outputs": [
    {
     "data": {
      "text/plain": [
       "{'title': 'Despacito (Remix) (Ft.\\xa0Justin\\xa0Bieber)',\n",
       " 'author': 'Luis Fonsi & Daddy Yankee',\n",
       " 'lyrics': '[Intro: Justin Bieber]\\nComin\\' over in my direction\\nSo thankful for that, it\\'s such a blessin\\', yeah\\nTurn every situation into heaven, yeah\\nOh-oh, you are\\nMy sunrise on the darkest day\\nGot me feelin\\' some kind of way\\nMake me wanna savor every moment slowly, slowly\\nYou fit me tailor-made, love how you put it on\\nGot the only key, know how to turn it on\\nThe way you nibble on my ear, the only words I wanna hear\\nBaby, take it slow so we can last long\\n\\n[Verso 1: Luis Fonsi & Daddy Yankee]\\n¡Oh! Tú, tú eres el imán y yo soy el metal\\nMe voy acercando y voy armando el plan\\nSólo con pensarlo se acelera el pulso (oh yeah)\\nYa, ya me está gustando más de lo normal\\nTodos mis sentidos van pidiendo más\\nEsto hay que tomarlo sin ningún apuro\\n\\n[Coro: Justin Bieber & Luis Fonsi / Daddy Yankee]\\nDespacito\\nQuiero respirar tu cuello despacito\\nDeja que te diga cosas al oído\\nPara que te acuerdes si no estás conmigo\\nDespacito\\nQuiero desnudarte a besos despacito\\nFirmo en las paredes de tu laberinto\\nY hacer de tu cuerpo todo un manuscrito\\n(Sube, sube, sube\\nSube, sube)\\n\\n[Post-Coro: Luis Fonsi & Daddy Yankee]\\nQuiero ver bailar tu pelo, quiero ser tu ritmo (woah, woah)\\nQue le enseñes a mi boca (woah, woah)\\nTus lugares favoritos (favorito, favorito, baby)\\nDéjame sobrepasar tus zonas de peligro (woah, woah)\\nHasta provocar tus gritos (woah, woah)\\nY que olvides tu apellido\\n\\n[Verso 2: Daddy Yankee]\\nSi te pido un beso, ven, dámelo, yo sé que estás pensándolo\\nLlevo tiempo intentándolo, mami, esto es dando y dándolo\\nSabes que tu corazón conmigo te hace bom, bom\\nSabes que esa beba está buscando de mi bom, bom\\nVen, prueba de mi boca para ver cómo te sabe\\nQuiero, quiero, quiero ver cuánto amor a ti te cabe\\nYo no tengo prisa, yo me quiero dar el viaje\\nEmpecemos lento, después salvaje\\n\\n[Pre-Coro: Daddy Yankee & Justin Bieber / Daddy Yankee]\\nPasito a pasito, suave suavecito\\nNos vamos pegando, poquito a poquito\\nCuando tú me besas con esa destreza\\nVeo que eres malicia con delicadeza\\nPasito a pasito, suave suavecito\\nNos vamos pegando, poquito a poquito\\nY es que esa belleza es un rompecabezas\\nPero pa\\' montarlo aquí tengo la pieza\\n¡Oye!\\n\\n[Coro: Justin Bieber & Luis Fonsi / Daddy Yankee]\\nDespacito\\nQuiero respirar tu cuello despacito\\nDeja que te diga cosas al oído\\nPara que te acuerdes si no estás conmigo\\nDespacito\\nQuiero desnudarte a besos despacito\\nFirmo en las paredes de tu laberinto\\nY hacer de tu cuerpo todo un manuscrito\\n(Sube, sube, sube\\nSube, sube)\\n\\n[Post-Coro: Luis Fonsi & Daddy Yankee]\\nQuiero ver bailar tu pelo, quiero ser tu ritmo (woah, woah)\\nQue le enseñes a mi boca (woah, woah)\\nTus lugares favoritos (favorito, favorito, baby)\\nDéjame sobrepasar tus zonas de peligro (woah, woah)\\nHasta provocar tus gritos (woah, woah)\\nY que olvides tu apellido\\n\\n[Puente: Luis Fonsi]\\nDespacito\\nThis is how we do it down in Puerto Rico\\nI just wanna hear you screaming, \"¡Ay, Bendito!\"\\nI can move forever cuando esté contigo\\n¡Bailalo!\\n\\n[Post-Coro: Daddy Yankee, Luis Fonsi & Justin Bieber]\\nPasito a pasito, suave suavecito\\nNos vamos pegando, poquito a poquito\\nQue le enseñes a mi boca\\nTus lugares favoritos\\n(Favorito, favorito, baby)\\nPasito a pasito, suave suavecito\\nNos vamos pegando, poquito a poquito\\nHasta provocar tus gritos (Fonsi)\\nY que olvides tu apellido (D.Y.)\\nDespacito',\n",
       " 'thumbnail': {'genius': 'https://images.genius.com/4164dff756ddd455675789bd67fe5f1a.300x300x1.png'},\n",
       " 'links': {'genius': 'https://genius.com/Luis-fonsi-and-daddy-yankee-despacito-remix-lyrics'},\n",
       " 'disclaimer': 'What the API returns is not guaranteed to return the right lyrics or have a matching title and author.',\n",
       " 'source': 2}"
      ]
     },
     "execution_count": 116,
     "metadata": {},
     "output_type": "execute_result"
    }
   ],
   "source": [
    "fetch_lyrics(\"Despacito\")"
   ]
  },
  {
   "cell_type": "code",
   "execution_count": 128,
   "metadata": {},
   "outputs": [],
   "source": [
    "CLIENT_ID_2 = \"HQ8Cy6O7n0a1KNrkfN31BPBJohKkck2l5RwP4wcQnyLTjOYzJHKzB8-o1Y9_75zZ\"\n",
    "CLIENT_SECRET_2 = \"_r1kPoWMqxQKyBXxVJylDFsQRIoio22d0fZczzJpTvzG9shDxy9t-BHK1OBQtnMaTIqXn9XjmslfzOiECXW_5w\""
   ]
  },
  {
   "cell_type": "code",
   "execution_count": 130,
   "metadata": {},
   "outputs": [
    {
     "name": "stdout",
     "output_type": "stream",
     "text": [
      "<Response [403]>\n"
     ]
    }
   ],
   "source": [
    "auth_url = \"https://api.genius.com/oauth/authorize\"\n",
    "\n",
    "data = {\n",
    "    'grant_type': 'client_credentials',\n",
    "    'client_id_2': client_id,\n",
    "    'client_secret_2': client_secret,\n",
    "}\n",
    "\n",
    "auth_response = requests.post(auth_url, data = data)\n",
    "print(auth_response)"
   ]
  },
  {
   "cell_type": "code",
   "execution_count": 132,
   "metadata": {},
   "outputs": [],
   "source": [
    "access_token2 = \"c1diyRsLXMyh8rAbFQ09UmVl5CvgLGtUOVb4uBQXQ2Bq1XvPtEs2130-qOrvRCNl\""
   ]
  },
  {
   "cell_type": "code",
   "execution_count": 133,
   "metadata": {},
   "outputs": [
    {
     "data": {
      "text/plain": [
       "'c1diyRsLXMyh8rAbFQ09UmVl5CvgLGtUOVb4uBQXQ2Bq1XvPtEs2130-qOrvRCNl'"
      ]
     },
     "execution_count": 133,
     "metadata": {},
     "output_type": "execute_result"
    }
   ],
   "source": [
    "access_token2"
   ]
  },
  {
   "cell_type": "code",
   "execution_count": 145,
   "metadata": {},
   "outputs": [],
   "source": [
    "def search_song(query, token):\n",
    "    \"\"\"Search for a song using the Genius API and return the song's path URL.\"\"\"\n",
    "    base_url = 'https://api.genius.com'\n",
    "    search_url = f'{base_url}/search'\n",
    "    \n",
    "    params = {\n",
    "        'q': query  # Song query (e.g., \"Firestone\")\n",
    "    }\n",
    "\n",
    "    headers = {\n",
    "        'Authorization': f'Bearer {token}',\n",
    "    }\n",
    "    \n",
    "    response = requests.get(search_url, headers=headers, params=params)\n",
    "    \n",
    "    if response.status_code == 200:\n",
    "        search_results = response.json()['response']['hits']\n",
    "        if search_results:\n",
    "            # Take the first result and get its URL\n",
    "            song_path = search_results[0]['result']['path']\n",
    "            return f\"https://genius.com{song_path}\"\n",
    "        else:\n",
    "            return None\n",
    "    else:\n",
    "        print(f\"Error: {response.status_code}\")\n",
    "        return None"
   ]
  },
  {
   "cell_type": "code",
   "execution_count": 147,
   "metadata": {},
   "outputs": [
    {
     "data": {
      "text/plain": [
       "'https://genius.com/Sabrina-carpenter-please-please-please-lyrics'"
      ]
     },
     "execution_count": 147,
     "metadata": {},
     "output_type": "execute_result"
    }
   ],
   "source": [
    "search_song(\"Please Please Please\", access_token2)"
   ]
  },
  {
   "cell_type": "code",
   "execution_count": 153,
   "metadata": {},
   "outputs": [],
   "source": [
    "genius = lyricsgenius.Genius(access_token2, remove_section_headers=True, skip_non_songs=True)"
   ]
  },
  {
   "cell_type": "code",
   "execution_count": 149,
   "metadata": {},
   "outputs": [],
   "source": [
    "artist = \"Taylor Swift\"\n",
    "nb_songs = 1\n",
    "langage = \"english\""
   ]
  },
  {
   "cell_type": "code",
   "execution_count": 154,
   "metadata": {},
   "outputs": [
    {
     "name": "stdout",
     "output_type": "stream",
     "text": [
      "Searching for songs by Taylor Swift...\n",
      "\n",
      "Song 1: \"All Too Well (10 Minute Version) (Taylor’s Version) [From The Vault]\"\n",
      "\n",
      "Reached user-specified song limit (1).\n",
      "Done. Found 1 songs.\n"
     ]
    }
   ],
   "source": [
    "titles = []\n",
    "lyrics = []\n",
    "artist_genius = genius.search_artist(artist, max_songs = nb_songs, sort='popularity')\n",
    "songs = artist_genius.songs\n",
    "song_number = 0\n",
    "for song in songs:\n",
    "    if song is not None:\n",
    "        song_number += 1\n",
    "        titles.append(song.title)\n",
    "        lyrics.append(song.lyrics)"
   ]
  },
  {
   "cell_type": "code",
   "execution_count": 157,
   "metadata": {},
   "outputs": [
    {
     "data": {
      "text/html": [
       "<div>\n",
       "<style scoped>\n",
       "    .dataframe tbody tr th:only-of-type {\n",
       "        vertical-align: middle;\n",
       "    }\n",
       "\n",
       "    .dataframe tbody tr th {\n",
       "        vertical-align: top;\n",
       "    }\n",
       "\n",
       "    .dataframe thead th {\n",
       "        text-align: right;\n",
       "    }\n",
       "</style>\n",
       "<table border=\"1\" class=\"dataframe\">\n",
       "  <thead>\n",
       "    <tr style=\"text-align: right;\">\n",
       "      <th></th>\n",
       "      <th>artist</th>\n",
       "      <th>title</th>\n",
       "      <th>lyrics</th>\n",
       "    </tr>\n",
       "  </thead>\n",
       "  <tbody>\n",
       "    <tr>\n",
       "      <th>0</th>\n",
       "      <td>Taylor Swift</td>\n",
       "      <td>All Too Well (10 Minute Version) (Taylor’s Ver...</td>\n",
       "      <td>378 ContributorsTranslationsРусскийفارسیEspaño...</td>\n",
       "    </tr>\n",
       "  </tbody>\n",
       "</table>\n",
       "</div>"
      ],
      "text/plain": [
       "         artist                                              title  \\\n",
       "0  Taylor Swift  All Too Well (10 Minute Version) (Taylor’s Ver...   \n",
       "\n",
       "                                              lyrics  \n",
       "0  378 ContributorsTranslationsРусскийفارسیEspaño...  "
      ]
     },
     "execution_count": 157,
     "metadata": {},
     "output_type": "execute_result"
    }
   ],
   "source": [
    "data = pd.DataFrame({'artist':artist, 'title':titles, 'lyrics':lyrics})\n",
    "data"
   ]
  },
  {
   "cell_type": "code",
   "execution_count": 163,
   "metadata": {},
   "outputs": [],
   "source": [
    "data.to_csv(artist+'.csv')"
   ]
  },
  {
   "cell_type": "code",
   "execution_count": 174,
   "metadata": {},
   "outputs": [],
   "source": [
    "def get_song_lyrics(song_title):\n",
    "    # Search for the song by title\n",
    "    song = genius.search_song(song_title)\n",
    "    \n",
    "    if song:\n",
    "        # If the song is found, return the lyrics\n",
    "        return song.lyrics\n",
    "    else:\n",
    "        return f\"Song '{song_title}' not found.\""
   ]
  },
  {
   "cell_type": "code",
   "execution_count": 178,
   "metadata": {},
   "outputs": [
    {
     "name": "stdout",
     "output_type": "stream",
     "text": [
      "Searching for \"No Control\"...\n",
      "Done.\n",
      "Lyrics for 'No Control':\n",
      "69 ContributorsNo Control Lyrics\n",
      "Oh\n",
      "(Oh, oh)\n",
      "\n",
      "Stained coffee cup\n",
      "Just a fingerprint of lipstick's not enough\n",
      "Sweet (Oh), where you lay (Oh)\n",
      "Still a trace of innocence on the pillow case\n",
      "\n",
      "Waking up beside you, I'm a loaded gun\n",
      "I can't contain this anymore\n",
      "I'm all yours, I've got no control, no control\n",
      "Powerless, and I don't care it's obvious\n",
      "I just can't get enough of you\n",
      "The pedal's down, my eyes are closed, no control\n",
      "\n",
      "(Oh)\n",
      "Oh\n",
      "(Oh)\n",
      "\n",
      "Taste on my tongue\n",
      "I don't want to wash away the night before\n",
      "In the heat (Oh), where you lay (Oh)\n",
      "I could stay right here and burn in it all day\n",
      "You might also like\n",
      "Waking up beside you, I'm a loaded gun\n",
      "I can't contain this anymore\n",
      "I'm all yours, I've got no control, no control\n",
      "Powerless, and I don't care it's obvious\n",
      "I just can't get enough of you\n",
      "The pedal's down, my eyes are closed, no control\n",
      "\n",
      "Lost my senses, I'm defenseless\n",
      "Her perfume's holding me ransom\n",
      "Sweet and sour, heart devoured\n",
      "Lying here, I count the hours\n",
      "\n",
      "Waking up, beside you I'm a loaded gun\n",
      "I can't contain this anymore\n",
      "I'm all yours, I've got no control, no control\n",
      "Powerless, and I don't care it's obvious\n",
      "I just can't get enough of you\n",
      "The pedal's down, my eyes are closed, no control\n",
      "\n",
      "Oh\n",
      "No control\n",
      "Oh\n",
      "No control\n",
      "Powerless, and I don't care it's obvious\n",
      "I just can't get enough of you\n",
      "The pedal's down, my eyes are closed, no control92Embed\n"
     ]
    }
   ],
   "source": [
    "lyrics = get_song_lyrics(\"No Control\")\n",
    "\n",
    "if lyrics:\n",
    "    print(f\"Lyrics for '{song_title}':\\n{lyrics}\")\n",
    "else:\n",
    "    print(\"Could not fetch lyrics.\")"
   ]
  }
 ],
 "metadata": {
  "kernelspec": {
   "display_name": "base",
   "language": "python",
   "name": "python3"
  },
  "language_info": {
   "codemirror_mode": {
    "name": "ipython",
    "version": 3
   },
   "file_extension": ".py",
   "mimetype": "text/x-python",
   "name": "python",
   "nbconvert_exporter": "python",
   "pygments_lexer": "ipython3",
   "version": "3.12.2"
  }
 },
 "nbformat": 4,
 "nbformat_minor": 2
}
