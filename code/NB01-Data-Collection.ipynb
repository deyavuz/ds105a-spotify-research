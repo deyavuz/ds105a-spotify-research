{
 "cells": [
  {
   "cell_type": "markdown",
   "metadata": {},
   "source": [
    "# 🎼 NB01: Data Collection"
   ]
  },
  {
   "cell_type": "markdown",
   "metadata": {},
   "source": [
    "In this notebook, I will be mainly testing using my access token and obtaining data through different endpoints (alongside observing their outputs to get a sense of how I can use them) from the Spotify API and Genius API."
   ]
  },
  {
   "cell_type": "code",
   "execution_count": 12,
   "metadata": {},
   "outputs": [],
   "source": [
    "# Importing the necessary libraries\n",
    "from dotenv import load_dotenv\n",
    "from functions import *\n",
    "from bs4 import BeautifulSoup\n",
    "from pprint import pprint\n",
    "from auth import *\n",
    "import pandas as pd\n",
    "import json\n",
    "import lyricsgenius"
   ]
  },
  {
   "cell_type": "code",
   "execution_count": 13,
   "metadata": {},
   "outputs": [],
   "source": [
    "# Defining access_token through calling the get_token() function\n",
    "access_token = get_token()"
   ]
  },
  {
   "cell_type": "code",
   "execution_count": 14,
   "metadata": {},
   "outputs": [],
   "source": [
    "# Testing the search_artist() function and printing the data - testing whether the token and API calling works\n",
    "artist_data = search_artist(\"Taylor Swift\", access_token)"
   ]
  },
  {
   "cell_type": "markdown",
   "metadata": {},
   "source": [
    "#### Working on the Question - Top Hits Playlist"
   ]
  },
  {
   "cell_type": "markdown",
   "metadata": {},
   "source": [
    "Here, I am gathering data from the Spotify user-created playlist \"Pop Hits 2000s-2024\""
   ]
  },
  {
   "cell_type": "code",
   "execution_count": 15,
   "metadata": {},
   "outputs": [],
   "source": [
    "# Getting playlist items from the Spotify API\n",
    "# Doing this in 3 steps, as the API only allows 100 items per call\n",
    "top_hits = get_playlist_items(\"6mtYuOxzl58vSGnEDtZ9uB\", \"items(track.artists.name, track.name, track.id)\", \"GB\", 100, 0, access_token)\n",
    "top_hits2 = get_playlist_items(\"6mtYuOxzl58vSGnEDtZ9uB\", \"items(track.artists.name, track.name, track.id)\", \"GB\", 100, 100, access_token)\n",
    "top_hits3 = get_playlist_items(\"6mtYuOxzl58vSGnEDtZ9uB\", \"items(track.artists.name, track.name, track.id)\", \"GB\", 100, 200, access_token)"
   ]
  },
  {
   "cell_type": "code",
   "execution_count": 16,
   "metadata": {},
   "outputs": [],
   "source": [
    "# Opening and combining top hits JSON files\n",
    "with open(\"../data/raw/top_hits.json\", \"w\", encoding=\"utf-8\") as f:\n",
    "    json.dump(top_hits, f, ensure_ascii=False, indent=4)\n",
    "\n",
    "with open(\"../data/raw/top_hits2.json\", \"w\", encoding=\"utf-8\") as f:\n",
    "    json.dump(top_hits2, f, ensure_ascii=False, indent=4)\n",
    "\n",
    "with open(\"../data/raw/top_hits3.json\", \"w\", encoding=\"utf-8\") as f:\n",
    "    json.dump(top_hits3, f, ensure_ascii=False, indent=4)\n",
    "\n",
    "with open(\"../data/raw/top_hits.json\", \"r\") as f1, open(\"../data/raw/top_hits2.json\", \"r\") as f2, open(\"../data/raw/top_hits3.json\", \"r\") as f3:\n",
    "    json1 = json.load(f1)\n",
    "    json2 = json.load(f2)\n",
    "    json3 = json.load(f3)\n",
    "\n",
    "combined_items = json1[\"items\"] + json2[\"items\"] + json3[\"items\"]\n",
    "\n",
    "combined_json = {\"items\": combined_items}\n",
    "\n",
    "with open(\"../data/raw/combined_top_hits.json\", \"w\") as output_file:\n",
    "    json.dump(combined_json, output_file, indent=2)"
   ]
  },
  {
   "cell_type": "markdown",
   "metadata": {},
   "source": [
    "#### Working on the Question - Girly Pop Music Playlist"
   ]
  },
  {
   "cell_type": "markdown",
   "metadata": {},
   "source": [
    "I am moving on to user-created Spotify playlist \"girly pop songs\" - a playlist I chose to collect data from due to its userbase popularity with 39,000 saves and diverse, popular, and more current/relevant tracks and artists \n",
    "\n",
    "For example, despite Sabrina Carpenter's current popularity, she didn't feature much on the Pop Hits playlist, possibly due to user-creation bias. My initial goal was to use Spotify-created playlists to avoid this. However, due to the new API restrictions, this wasn't possible and I aimed to diversify my dataset by using two different playlists. "
   ]
  },
  {
   "cell_type": "code",
   "execution_count": 17,
   "metadata": {},
   "outputs": [],
   "source": [
    "# Getting playlist items from the Spotify API for \"girly pop songs\"\n",
    "# Once again doing this in 3 steps as the API only allows 100 items per call\n",
    "women_in_pop_data = get_playlist_items(\"06fIJ0Q8SkYruBcJX2M6C8\", \"items(track.artists.name, track.name, track.id)\", \"GB\", 100, 0, access_token)\n",
    "women_in_pop_data2 = get_playlist_items(\"06fIJ0Q8SkYruBcJX2M6C8\", \"items(track.artists.name, track.name, track.id)\", \"GB\", 100, 100, access_token)\n",
    "women_in_pop_data3 = get_playlist_items(\"06fIJ0Q8SkYruBcJX2M6C8\", \"items(track.artists.name, track.name, track.id)\", \"GB\", 100, 200, access_token)"
   ]
  },
  {
   "cell_type": "code",
   "execution_count": 18,
   "metadata": {},
   "outputs": [],
   "source": [
    "# Opening and combining girly pop JSON files\n",
    "with open(\"../data/raw/women_pop.json\", \"w\", encoding=\"utf-8\") as f:\n",
    "    json.dump(women_in_pop_data, f, ensure_ascii=False, indent=4)\n",
    "\n",
    "with open(\"../data/raw/women_pop2.json\", \"w\", encoding=\"utf-8\") as f:\n",
    "    json.dump(women_in_pop_data2, f, ensure_ascii=False, indent=4)\n",
    "\n",
    "with open(\"../data/raw/women_pop3.json\", \"w\", encoding=\"utf-8\") as f:\n",
    "    json.dump(women_in_pop_data3, f, ensure_ascii=False, indent=4)\n",
    "\n",
    "with open(\"../data/raw/women_pop.json\", \"r\") as f1, open(\"../data/raw/women_pop2.json\", \"r\") as f2, open(\"../data/raw/women_pop3.json\", \"r\") as f3:\n",
    "    json1 = json.load(f1)\n",
    "    json2 = json.load(f2)\n",
    "    json3 = json.load(f3)\n",
    "\n",
    "combined_items = json1[\"items\"] + json2[\"items\"] + json3[\"items\"]\n",
    "\n",
    "combined_json = {\"items\": combined_items}\n",
    "\n",
    "with open(\"../data/raw/combined_women_pop.json\", \"w\") as output_file:\n",
    "    json.dump(combined_json, output_file, indent=2)"
   ]
  },
  {
   "cell_type": "markdown",
   "metadata": {},
   "source": [
    "### Testing the endpoints, Spotfiy API functions, and Genius API functions"
   ]
  },
  {
   "cell_type": "markdown",
   "metadata": {},
   "source": [
    "I have collected my raw data that I will process and supplement with lyrics data in NB02. Here, I wanted to test some endpoints that I plan on using for the next steps of my analysis."
   ]
  },
  {
   "cell_type": "code",
   "execution_count": 19,
   "metadata": {},
   "outputs": [
    {
     "data": {
      "text/plain": [
       "'https://genius.com/Sabrina-carpenter-please-please-please-lyrics'"
      ]
     },
     "execution_count": 19,
     "metadata": {},
     "output_type": "execute_result"
    }
   ],
   "source": [
    "# Testing the search_song() function/output, alongside the Genius API access token\n",
    "search_song(\"Please Please Please\", access_token2)"
   ]
  },
  {
   "cell_type": "code",
   "execution_count": 20,
   "metadata": {},
   "outputs": [],
   "source": [
    "# Defining Genius access token\n",
    "genius = lyricsgenius.Genius(access_token2, remove_section_headers=True, skip_non_songs=True)"
   ]
  },
  {
   "cell_type": "code",
   "execution_count": 21,
   "metadata": {},
   "outputs": [
    {
     "name": "stdout",
     "output_type": "stream",
     "text": [
      "Searching for songs by Taylor Swift...\n",
      "\n",
      "Song 1: \"All Too Well (10 Minute Version) (Taylor’s Version) [From The Vault]\"\n",
      "\n",
      "Reached user-specified song limit (1).\n",
      "Done. Found 1 songs.\n"
     ]
    }
   ],
   "source": [
    "# Testing Genius search artist endpoint\n",
    "artist_genius = genius.search_artist(\"Taylor Swift\", max_songs=1, sort='popularity')\n",
    "\n",
    "songs_data = [(song.title, song.lyrics) for song in artist_genius.songs if song is not None]\n",
    "\n",
    "songs_df = pd.DataFrame(songs_data, columns=['Title', 'Lyrics'])"
   ]
  },
  {
   "cell_type": "code",
   "execution_count": 22,
   "metadata": {},
   "outputs": [
    {
     "name": "stdout",
     "output_type": "stream",
     "text": [
      "Searching for \"Silver Springs\" by Fleetwood Mac...\n",
      "Done.\n"
     ]
    }
   ],
   "source": [
    "# Calling the get_song_lyrics() function to get the lyrics of a song\n",
    "# Using the Genius API endpoint \"get songs\" to get Genius URLs, webscraping Genius to get the lyrics to songs\n",
    "lyrics = get_song_lyrics(\"Silver Springs\", \"Fleetwood Mac\")"
   ]
  },
  {
   "cell_type": "markdown",
   "metadata": {},
   "source": [
    "Click [here](https://github.com/lse-ds105/w10-summative-deyavuz/tree/main?tab=readme-ov-file#table-of-contents) to navigate back to the Table of Contents!"
   ]
  }
 ],
 "metadata": {
  "kernelspec": {
   "display_name": "base",
   "language": "python",
   "name": "python3"
  },
  "language_info": {
   "codemirror_mode": {
    "name": "ipython",
    "version": 3
   },
   "file_extension": ".py",
   "mimetype": "text/x-python",
   "name": "python",
   "nbconvert_exporter": "python",
   "pygments_lexer": "ipython3",
   "version": "3.12.2"
  }
 },
 "nbformat": 4,
 "nbformat_minor": 2
}
