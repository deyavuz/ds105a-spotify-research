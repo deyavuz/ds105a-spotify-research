{
 "cells": [
  {
   "cell_type": "markdown",
   "metadata": {},
   "source": [
    "# NB01: Data Collection"
   ]
  },
  {
   "cell_type": "code",
   "execution_count": 24,
   "metadata": {},
   "outputs": [],
   "source": [
    "import requests\n",
    "from dotenv import load_dotenv\n",
    "from functions import *\n",
    "import os\n",
    "import pandas as pd\n",
    "import json"
   ]
  },
  {
   "cell_type": "code",
   "execution_count": 7,
   "metadata": {},
   "outputs": [
    {
     "data": {
      "text/plain": [
       "True"
      ]
     },
     "execution_count": 7,
     "metadata": {},
     "output_type": "execute_result"
    }
   ],
   "source": [
    "load_dotenv()"
   ]
  },
  {
   "cell_type": "code",
   "execution_count": 8,
   "metadata": {},
   "outputs": [],
   "source": [
    "client_id = os.getenv(\"CLIENT_ID\")\n",
    "client_secret = os.getenv(\"CLIENT_SECRET\")"
   ]
  },
  {
   "cell_type": "code",
   "execution_count": 9,
   "metadata": {},
   "outputs": [],
   "source": [
    "auth_url = \"https://accounts.spotify.com/api/token\"\n",
    "\n",
    "data = {\n",
    "    'grant_type': 'client_credentials',\n",
    "    'client_id': client_id,\n",
    "    'client_secret': client_secret,\n",
    "}\n",
    "\n",
    "auth_response = requests.post(auth_url, data = data)"
   ]
  },
  {
   "cell_type": "code",
   "execution_count": 10,
   "metadata": {},
   "outputs": [],
   "source": [
    "access_token = auth_response.json().get('access_token')"
   ]
  },
  {
   "cell_type": "code",
   "execution_count": 11,
   "metadata": {},
   "outputs": [
    {
     "data": {
      "text/plain": [
       "'BQDLCV16bf3xVsGiW8XDXxfQMoL5KKaQWdpeEmNDpms_9hJJ4YVzZ3S-5cwwQPL3TZuIV3GUBjA6sg3Rc3hhI4OJCjHH5V9hK2jeIACsf4SsE4WsUm8'"
      ]
     },
     "execution_count": 11,
     "metadata": {},
     "output_type": "execute_result"
    }
   ],
   "source": [
    "access_token"
   ]
  },
  {
   "cell_type": "code",
   "execution_count": 12,
   "metadata": {},
   "outputs": [
    {
     "name": "stdout",
     "output_type": "stream",
     "text": [
      "{'artists': {'href': 'https://api.spotify.com/v1/search?offset=0&limit=1&query=Taylor%20Swift&type=artist', 'limit': 1, 'next': 'https://api.spotify.com/v1/search?offset=1&limit=1&query=Taylor%20Swift&type=artist', 'offset': 0, 'previous': None, 'total': 814, 'items': [{'external_urls': {'spotify': 'https://open.spotify.com/artist/06HL4z0CvFAxyc27GXpf02'}, 'followers': {'href': None, 'total': 126740063}, 'genres': ['pop'], 'href': 'https://api.spotify.com/v1/artists/06HL4z0CvFAxyc27GXpf02', 'id': '06HL4z0CvFAxyc27GXpf02', 'images': [{'url': 'https://i.scdn.co/image/ab6761610000e5ebe672b5f553298dcdccb0e676', 'height': 640, 'width': 640}, {'url': 'https://i.scdn.co/image/ab67616100005174e672b5f553298dcdccb0e676', 'height': 320, 'width': 320}, {'url': 'https://i.scdn.co/image/ab6761610000f178e672b5f553298dcdccb0e676', 'height': 160, 'width': 160}], 'name': 'Taylor Swift', 'popularity': 100, 'type': 'artist', 'uri': 'spotify:artist:06HL4z0CvFAxyc27GXpf02'}]}}\n"
     ]
    }
   ],
   "source": [
    "artist_data = search_artist(\"Taylor Swift\", access_token)\n",
    "print(artist_data)"
   ]
  },
  {
   "cell_type": "code",
   "execution_count": 13,
   "metadata": {},
   "outputs": [
    {
     "name": "stdout",
     "output_type": "stream",
     "text": [
      "{'requested_markets': 'TR', 'available_markets': ['TR']}\n"
     ]
    }
   ],
   "source": [
    "market_data = get_target_market(\"TR\", access_token)\n",
    "print(market_data)"
   ]
  },
  {
   "cell_type": "code",
   "execution_count": 14,
   "metadata": {},
   "outputs": [],
   "source": [
    "def get_featured_playlists(locale, limit, offset, token):\n",
    "  \n",
    "  url = f\"https://api.spotify.com/v1/browse/featured-playlists\"\n",
    "  headers = {\n",
    "        'Authorization': f'Bearer {token}',\n",
    "    }\n",
    "  params = {\n",
    "    \"limit\": limit,\n",
    "    \"offset\": offset,\n",
    "    \"locale\": locale\n",
    "    \n",
    "  }\n",
    "  \n",
    "  response = requests.get(url, headers=headers, params=params)  \n",
    "  return response.json()  \n"
   ]
  },
  {
   "cell_type": "code",
   "execution_count": 15,
   "metadata": {},
   "outputs": [],
   "source": [
    "def get_featured_playlists(locale, limit, offset, token):\n",
    "    \n",
    "    url = f\"https://api.spotify.com/v1/browse/featured-playlists\"\n",
    "\n",
    "    headers = {\n",
    "        'Authorization': f'Bearer {token}',\n",
    "    }\n",
    "    # Set the query parameters\n",
    "    params = {\n",
    "        'locale': locale,  # e.g., 'tr_TR'\n",
    "        'limit': limit,    # Number of items to return\n",
    "        'offset': offset   # Pagination index\n",
    "    }\n",
    "\n",
    "    # Send GET request to Spotify API\n",
    "    response = requests.get(url, headers=headers, params=params)\n",
    "\n",
    "    # Check if the request was successful\n",
    "    if response.status_code == 200:\n",
    "        return response.json()  # Return the JSON data as a dictionary\n",
    "    else:\n",
    "        return {\"error\": \"Failed to fetch data\", \"status_code\": response.status_code}\n"
   ]
  },
  {
   "cell_type": "code",
   "execution_count": 16,
   "metadata": {},
   "outputs": [],
   "source": [
    "def get_featured_playlists(locale, access_token, limit=20, offset=0):\n",
    "\n",
    "    if not access_token:\n",
    "        return {\"error\": \"Access token is required\"}\n",
    "\n",
    "    # Validate locale format\n",
    "    locale_pattern = r\"^[a-z]{2}_[A-Z]{2}$\"\n",
    "    if not re.match(locale_pattern, locale):\n",
    "        return {\"error\": \"Invalid locale format. Use 'languageCode_countryCode' (e.g., 'tr_TR')\"}\n",
    "\n",
    "    url = \"https://api.spotify.com/v1/browse/featured-playlists\"\n",
    "    headers = {\n",
    "        'Authorization': f'Bearer {access_token}',  # Use the provided access token\n",
    "    }\n",
    "    params = {\n",
    "        'locale': locale,  # Required locale parameter\n",
    "        'limit': limit,\n",
    "        'offset': offset,\n",
    "    }\n",
    "\n",
    "    # Send GET request\n",
    "    response = requests.get(url, headers=headers, params=params)\n",
    "\n",
    "    # Handle response\n",
    "    if response.status_code == 200:\n",
    "        return response.json()\n",
    "    elif response.status_code == 400:\n",
    "        return {\"error\": \"Invalid locale or parameter format\", \"status_code\": response.status_code}\n",
    "    elif response.status_code == 401:\n",
    "        return {\"error\": \"Invalid or expired access token\", \"status_code\": response.status_code}\n",
    "    else:\n",
    "        return {\n",
    "            \"error\": \"Failed to fetch data\",\n",
    "            \"status_code\": response.status_code,\n",
    "            \"message\": response.text\n",
    "        }\n"
   ]
  },
  {
   "cell_type": "code",
   "execution_count": 17,
   "metadata": {},
   "outputs": [
    {
     "data": {
      "text/plain": [
       "{'message': 'Popüler Çalma Listeleri',\n",
       " 'playlists': {'href': 'https://api.spotify.com/v1/browse/featured-playlists?offset=0&limit=10&locale=tr-TR',\n",
       "  'items': [{'collaborative': False,\n",
       "    'description': 'The biggest Christmas songs of all time.',\n",
       "    'external_urls': {'spotify': 'https://open.spotify.com/playlist/37i9dQZF1DX0Yxoavh5qJV'},\n",
       "    'href': 'https://api.spotify.com/v1/playlists/37i9dQZF1DX0Yxoavh5qJV',\n",
       "    'id': '37i9dQZF1DX0Yxoavh5qJV',\n",
       "    'images': [{'height': None,\n",
       "      'url': 'https://i.scdn.co/image/ab67706f0000000277c91d9f09e4deb8a2ede4cb',\n",
       "      'width': None}],\n",
       "    'name': 'Christmas Hits',\n",
       "    'owner': {'display_name': 'Spotify',\n",
       "     'external_urls': {'spotify': 'https://open.spotify.com/user/spotify'},\n",
       "     'href': 'https://api.spotify.com/v1/users/spotify',\n",
       "     'id': 'spotify',\n",
       "     'type': 'user',\n",
       "     'uri': 'spotify:user:spotify'},\n",
       "    'primary_color': '#FFFFFF',\n",
       "    'public': True,\n",
       "    'snapshot_id': 'Z0YInwAAAAD8iBmpU2Sus0tNQzAA4oFz',\n",
       "    'tracks': {'href': 'https://api.spotify.com/v1/playlists/37i9dQZF1DX0Yxoavh5qJV/tracks',\n",
       "     'total': 92},\n",
       "    'type': 'playlist',\n",
       "    'uri': 'spotify:playlist:37i9dQZF1DX0Yxoavh5qJV'},\n",
       "   {'collaborative': False,\n",
       "    'description': 'Everyone deserves a chance to fly. Listen to the music from and inspired by Wicked. Co-curated by Cynthia Erivo and Ariana Grande ',\n",
       "    'external_urls': {'spotify': 'https://open.spotify.com/playlist/37i9dQZF1DXbjEq7Z199Si'},\n",
       "    'href': 'https://api.spotify.com/v1/playlists/37i9dQZF1DXbjEq7Z199Si',\n",
       "    'id': '37i9dQZF1DXbjEq7Z199Si',\n",
       "    'images': [{'height': None,\n",
       "      'url': 'https://i.scdn.co/image/ab67706f00000002cd16491c2dc6463a90d9e6ca',\n",
       "      'width': None}],\n",
       "    'name': 'Wicked Official Playlist',\n",
       "    'owner': {'display_name': 'Spotify',\n",
       "     'external_urls': {'spotify': 'https://open.spotify.com/user/spotify'},\n",
       "     'href': 'https://api.spotify.com/v1/users/spotify',\n",
       "     'id': 'spotify',\n",
       "     'type': 'user',\n",
       "     'uri': 'spotify:user:spotify'},\n",
       "    'primary_color': '#ffffff',\n",
       "    'public': True,\n",
       "    'snapshot_id': 'Z0AP0AAAAAB32CJTyx3GvyEhFHzPeTM7',\n",
       "    'tracks': {'href': 'https://api.spotify.com/v1/playlists/37i9dQZF1DXbjEq7Z199Si/tracks',\n",
       "     'total': 31},\n",
       "    'type': 'playlist',\n",
       "    'uri': 'spotify:playlist:37i9dQZF1DXbjEq7Z199Si'},\n",
       "   {'collaborative': False,\n",
       "    'description': \"The UK's biggest playlist. Cover: Sam Fender\",\n",
       "    'external_urls': {'spotify': 'https://open.spotify.com/playlist/37i9dQZF1DWY4lFlS4Pnso'},\n",
       "    'href': 'https://api.spotify.com/v1/playlists/37i9dQZF1DWY4lFlS4Pnso',\n",
       "    'id': '37i9dQZF1DWY4lFlS4Pnso',\n",
       "    'images': [{'height': None,\n",
       "      'url': 'https://i.scdn.co/image/ab67706f000000024c29135ba0411bcc61e8b519',\n",
       "      'width': None}],\n",
       "    'name': 'Hot Hits UK',\n",
       "    'owner': {'display_name': 'Spotify',\n",
       "     'external_urls': {'spotify': 'https://open.spotify.com/user/spotify'},\n",
       "     'href': 'https://api.spotify.com/v1/users/spotify',\n",
       "     'id': 'spotify',\n",
       "     'type': 'user',\n",
       "     'uri': 'spotify:user:spotify'},\n",
       "    'primary_color': '#C3F0C8',\n",
       "    'public': True,\n",
       "    'snapshot_id': 'Z0b6hwAAAACN+PDxD2zsojiwlVPfpFmW',\n",
       "    'tracks': {'href': 'https://api.spotify.com/v1/playlists/37i9dQZF1DWY4lFlS4Pnso/tracks',\n",
       "     'total': 70},\n",
       "    'type': 'playlist',\n",
       "    'uri': 'spotify:playlist:37i9dQZF1DWY4lFlS4Pnso'},\n",
       "   {'collaborative': False,\n",
       "    'description': 'The hottest 50. Cover: Lady Gaga & Bruno Mars',\n",
       "    'external_urls': {'spotify': 'https://open.spotify.com/playlist/37i9dQZF1DXcBWIGoYBM5M'},\n",
       "    'href': 'https://api.spotify.com/v1/playlists/37i9dQZF1DXcBWIGoYBM5M',\n",
       "    'id': '37i9dQZF1DXcBWIGoYBM5M',\n",
       "    'images': [{'height': None,\n",
       "      'url': 'https://i.scdn.co/image/ab67706f000000027a97edf308c4856ae5cda067',\n",
       "      'width': None}],\n",
       "    'name': 'Today’s Top Hits',\n",
       "    'owner': {'display_name': 'Spotify',\n",
       "     'external_urls': {'spotify': 'https://open.spotify.com/user/spotify'},\n",
       "     'href': 'https://api.spotify.com/v1/users/spotify',\n",
       "     'id': 'spotify',\n",
       "     'type': 'user',\n",
       "     'uri': 'spotify:user:spotify'},\n",
       "    'primary_color': '#FFFFFF',\n",
       "    'public': True,\n",
       "    'snapshot_id': 'Z0OgcQAAAADg8PM3oC7gXzQ5ep+XjR0y',\n",
       "    'tracks': {'href': 'https://api.spotify.com/v1/playlists/37i9dQZF1DXcBWIGoYBM5M/tracks',\n",
       "     'total': 50},\n",
       "    'type': 'playlist',\n",
       "    'uri': 'spotify:playlist:37i9dQZF1DXcBWIGoYBM5M'},\n",
       "   {'collaborative': False,\n",
       "    'description': 'Gentle Ambient piano to help you fall asleep. ',\n",
       "    'external_urls': {'spotify': 'https://open.spotify.com/playlist/37i9dQZF1DWZd79rJ6a7lp'},\n",
       "    'href': 'https://api.spotify.com/v1/playlists/37i9dQZF1DWZd79rJ6a7lp',\n",
       "    'id': '37i9dQZF1DWZd79rJ6a7lp',\n",
       "    'images': [{'height': None,\n",
       "      'url': 'https://i.scdn.co/image/ab67706f00000002cd17d41419faa97069e06c16',\n",
       "      'width': None}],\n",
       "    'name': 'Sleep',\n",
       "    'owner': {'display_name': 'Spotify',\n",
       "     'external_urls': {'spotify': 'https://open.spotify.com/user/spotify'},\n",
       "     'href': 'https://api.spotify.com/v1/users/spotify',\n",
       "     'id': 'spotify',\n",
       "     'type': 'user',\n",
       "     'uri': 'spotify:user:spotify'},\n",
       "    'primary_color': '#ffffff',\n",
       "    'public': True,\n",
       "    'snapshot_id': 'Zz8lnwAAAABzrnhZPbXvFAgtc3qotvaq',\n",
       "    'tracks': {'href': 'https://api.spotify.com/v1/playlists/37i9dQZF1DWZd79rJ6a7lp/tracks',\n",
       "     'total': 179},\n",
       "    'type': 'playlist',\n",
       "    'uri': 'spotify:playlist:37i9dQZF1DWZd79rJ6a7lp'},\n",
       "   {'collaborative': False,\n",
       "    'description': 'Ten hours long continuous white noise to help you relax and let go. ',\n",
       "    'external_urls': {'spotify': 'https://open.spotify.com/playlist/37i9dQZF1DWUZ5bk6qqDSy'},\n",
       "    'href': 'https://api.spotify.com/v1/playlists/37i9dQZF1DWUZ5bk6qqDSy',\n",
       "    'id': '37i9dQZF1DWUZ5bk6qqDSy',\n",
       "    'images': [{'height': None,\n",
       "      'url': 'https://i.scdn.co/image/ab67706f000000025b4d326fee8531fe32efe166',\n",
       "      'width': None}],\n",
       "    'name': 'White Noise 10 Hours',\n",
       "    'owner': {'display_name': 'Spotify',\n",
       "     'external_urls': {'spotify': 'https://open.spotify.com/user/spotify'},\n",
       "     'href': 'https://api.spotify.com/v1/users/spotify',\n",
       "     'id': 'spotify',\n",
       "     'type': 'user',\n",
       "     'uri': 'spotify:user:spotify'},\n",
       "    'primary_color': '#ffffff',\n",
       "    'public': True,\n",
       "    'snapshot_id': 'ZqnuAAAAAACAqDvOkuxKHwkDN6kbQV08',\n",
       "    'tracks': {'href': 'https://api.spotify.com/v1/playlists/37i9dQZF1DWUZ5bk6qqDSy/tracks',\n",
       "     'total': 230},\n",
       "    'type': 'playlist',\n",
       "    'uri': 'spotify:playlist:37i9dQZF1DWUZ5bk6qqDSy'},\n",
       "   {'collaborative': False,\n",
       "    'description': 'The essential tracks, all in one playlist.',\n",
       "    'external_urls': {'spotify': 'https://open.spotify.com/playlist/37i9dQZF1DX5KpP2LN299J'},\n",
       "    'href': 'https://api.spotify.com/v1/playlists/37i9dQZF1DX5KpP2LN299J',\n",
       "    'id': '37i9dQZF1DX5KpP2LN299J',\n",
       "    'images': [{'height': None,\n",
       "      'url': 'https://i.scdn.co/image/ab67706f0000000252feef11af8c9d412769ec5a',\n",
       "      'width': None}],\n",
       "    'name': 'This Is Taylor Swift',\n",
       "    'owner': {'display_name': 'Spotify',\n",
       "     'external_urls': {'spotify': 'https://open.spotify.com/user/spotify'},\n",
       "     'href': 'https://api.spotify.com/v1/users/spotify',\n",
       "     'id': 'spotify',\n",
       "     'type': 'user',\n",
       "     'uri': 'spotify:user:spotify'},\n",
       "    'primary_color': '#FFFFFF',\n",
       "    'public': True,\n",
       "    'snapshot_id': 'Zv9xkwAAAABK5nL5IFntelcyr1cwYSMN',\n",
       "    'tracks': {'href': 'https://api.spotify.com/v1/playlists/37i9dQZF1DX5KpP2LN299J/tracks',\n",
       "     'total': 180},\n",
       "    'type': 'playlist',\n",
       "    'uri': 'spotify:playlist:37i9dQZF1DX5KpP2LN299J'},\n",
       "   {'collaborative': False,\n",
       "    'description': 'All your favorite Disney hits, including classics from Encanto, Descendants, Moana, Frozen, & The Lion King.',\n",
       "    'external_urls': {'spotify': 'https://open.spotify.com/playlist/37i9dQZF1DX8C9xQcOrE6T'},\n",
       "    'href': 'https://api.spotify.com/v1/playlists/37i9dQZF1DX8C9xQcOrE6T',\n",
       "    'id': '37i9dQZF1DX8C9xQcOrE6T',\n",
       "    'images': [{'height': None,\n",
       "      'url': 'https://i.scdn.co/image/ab67706f000000022b13e708bea56b64517cb212',\n",
       "      'width': None}],\n",
       "    'name': 'Disney Hits',\n",
       "    'owner': {'display_name': 'Spotify',\n",
       "     'external_urls': {'spotify': 'https://open.spotify.com/user/spotify'},\n",
       "     'href': 'https://api.spotify.com/v1/users/spotify',\n",
       "     'id': 'spotify',\n",
       "     'type': 'user',\n",
       "     'uri': 'spotify:user:spotify'},\n",
       "    'primary_color': '#ffffff',\n",
       "    'public': True,\n",
       "    'snapshot_id': 'Zy0iygAAAACgXSvVnPDvHKEpp3QHtFjN',\n",
       "    'tracks': {'href': 'https://api.spotify.com/v1/playlists/37i9dQZF1DX8C9xQcOrE6T/tracks',\n",
       "     'total': 119},\n",
       "    'type': 'playlist',\n",
       "    'uri': 'spotify:playlist:37i9dQZF1DX8C9xQcOrE6T'},\n",
       "   {'collaborative': False,\n",
       "    'description': 'The biggest songs of the 1980s. Cover: Bruce Springsteen',\n",
       "    'external_urls': {'spotify': 'https://open.spotify.com/playlist/37i9dQZF1DX4UtSsGT1Sbe'},\n",
       "    'href': 'https://api.spotify.com/v1/playlists/37i9dQZF1DX4UtSsGT1Sbe',\n",
       "    'id': '37i9dQZF1DX4UtSsGT1Sbe',\n",
       "    'images': [{'height': None,\n",
       "      'url': 'https://i.scdn.co/image/ab67706f00000002d6710ea346fec48e89d77dba',\n",
       "      'width': None}],\n",
       "    'name': 'All Out 80s',\n",
       "    'owner': {'display_name': 'Spotify',\n",
       "     'external_urls': {'spotify': 'https://open.spotify.com/user/spotify'},\n",
       "     'href': 'https://api.spotify.com/v1/users/spotify',\n",
       "     'id': 'spotify',\n",
       "     'type': 'user',\n",
       "     'uri': 'spotify:user:spotify'},\n",
       "    'primary_color': '#ffffff',\n",
       "    'public': True,\n",
       "    'snapshot_id': 'ZxakLwAAAABJkhgU452KxVVTWajdpqwh',\n",
       "    'tracks': {'href': 'https://api.spotify.com/v1/playlists/37i9dQZF1DX4UtSsGT1Sbe/tracks',\n",
       "     'total': 150},\n",
       "    'type': 'playlist',\n",
       "    'uri': 'spotify:playlist:37i9dQZF1DX4UtSsGT1Sbe'},\n",
       "   {'collaborative': False,\n",
       "    'description': \"The UK's biggest dance playlist! Cover: nimino\",\n",
       "    'external_urls': {'spotify': 'https://open.spotify.com/playlist/37i9dQZF1DX5uokaTN4FTR'},\n",
       "    'href': 'https://api.spotify.com/v1/playlists/37i9dQZF1DX5uokaTN4FTR',\n",
       "    'id': '37i9dQZF1DX5uokaTN4FTR',\n",
       "    'images': [{'height': None,\n",
       "      'url': 'https://i.scdn.co/image/ab67706f0000000201330ab410f4cb107d092e36',\n",
       "      'width': None}],\n",
       "    'name': 'Massive Dance Hits',\n",
       "    'owner': {'display_name': 'Spotify',\n",
       "     'external_urls': {'spotify': 'https://open.spotify.com/user/spotify'},\n",
       "     'href': 'https://api.spotify.com/v1/users/spotify',\n",
       "     'id': 'spotify',\n",
       "     'type': 'user',\n",
       "     'uri': 'spotify:user:spotify'},\n",
       "    'primary_color': '#ffffff',\n",
       "    'public': True,\n",
       "    'snapshot_id': 'Zz/JgAAAAAA95g4CYFj5nK5K3MGeDPpp',\n",
       "    'tracks': {'href': 'https://api.spotify.com/v1/playlists/37i9dQZF1DX5uokaTN4FTR/tracks',\n",
       "     'total': 70},\n",
       "    'type': 'playlist',\n",
       "    'uri': 'spotify:playlist:37i9dQZF1DX5uokaTN4FTR'}],\n",
       "  'limit': 10,\n",
       "  'next': 'https://api.spotify.com/v1/browse/featured-playlists?offset=10&limit=10&locale=tr-TR',\n",
       "  'offset': 0,\n",
       "  'previous': None,\n",
       "  'total': 100}}"
      ]
     },
     "execution_count": 17,
     "metadata": {},
     "output_type": "execute_result"
    }
   ],
   "source": [
    "get_featured_playlists(\"tr_TR\", access_token, limit=10, offset=0)"
   ]
  },
  {
   "cell_type": "code",
   "execution_count": 18,
   "metadata": {},
   "outputs": [
    {
     "data": {
      "text/plain": [
       "{'error': 'Invalid or expired access token', 'status_code': 401}"
      ]
     },
     "execution_count": 18,
     "metadata": {},
     "output_type": "execute_result"
    }
   ],
   "source": [
    "get_featured_playlists(\"tr_TR\", 10, 0, access_token)"
   ]
  },
  {
   "cell_type": "code",
   "execution_count": 19,
   "metadata": {},
   "outputs": [],
   "source": [
    "def get_categories(locale, limit, offset, token):\n",
    "  \n",
    "  url = \"https://api.spotify.com/v1/browse/categories\"\n",
    "  headers = {\n",
    "        'Authorization': f'Bearer {token}',\n",
    "    }\n",
    "  params = {\n",
    "    \"locale\": locale,\n",
    "    \"limit\": limit,\n",
    "    \"offset\": offset\n",
    "  }\n",
    "  \n",
    "  response = requests.get(url, headers=headers, params=params)  \n",
    "  return response.json()  "
   ]
  },
  {
   "cell_type": "markdown",
   "metadata": {},
   "source": [
    "POP QUESTION"
   ]
  },
  {
   "cell_type": "code",
   "execution_count": 77,
   "metadata": {},
   "outputs": [],
   "source": [
    "def get_playlist_items(playlist_id, market, fields, limit, token):\n",
    "    \n",
    "    url = f\"https://api.spotify.com/v1/playlists/{playlist_id}/tracks\"\n",
    "    headers = {\n",
    "        'Authorization': f'Bearer {token}',\n",
    "    }\n",
    "    params = {\n",
    "        'market': market,\n",
    "        'fields': fields,\n",
    "        'limit': limit\n",
    "    }\n",
    "\n",
    "    response = requests.get(url, headers=headers, params=params)\n",
    "    return response.json()  \n"
   ]
  },
  {
   "cell_type": "code",
   "execution_count": 90,
   "metadata": {},
   "outputs": [],
   "source": [
    "top_hits_data = get_playlist_items(\"37i9dQZF1DXcBWIGoYBM5M\", \"GB\", \"items(track.artists.name, track.name, track.id)\", 60, access_token)"
   ]
  },
  {
   "cell_type": "code",
   "execution_count": 91,
   "metadata": {},
   "outputs": [],
   "source": [
    "with open(\"../data/raw/top_hits.json\", \"w\", encoding=\"utf-8\") as f:\n",
    "    json.dump(top_hits_data, f, ensure_ascii=False, indent=4)"
   ]
  },
  {
   "cell_type": "code",
   "execution_count": 92,
   "metadata": {},
   "outputs": [],
   "source": [
    "women_in_pop_data = get_playlist_items(\"37i9dQZF1DX3WvGXE8FqYX\", \"GB\", \"items(track.artists.name, track.name, track.id)\", 75, access_token)"
   ]
  },
  {
   "cell_type": "code",
   "execution_count": 93,
   "metadata": {},
   "outputs": [],
   "source": [
    "with open(\"../data/raw/women_pop.json\", \"w\", encoding=\"utf-8\") as f:\n",
    "    json.dump(women_in_pop_data, f, ensure_ascii=False, indent=4)"
   ]
  }
 ],
 "metadata": {
  "kernelspec": {
   "display_name": "base",
   "language": "python",
   "name": "python3"
  },
  "language_info": {
   "codemirror_mode": {
    "name": "ipython",
    "version": 3
   },
   "file_extension": ".py",
   "mimetype": "text/x-python",
   "name": "python",
   "nbconvert_exporter": "python",
   "pygments_lexer": "ipython3",
   "version": "3.12.2"
  }
 },
 "nbformat": 4,
 "nbformat_minor": 2
}
