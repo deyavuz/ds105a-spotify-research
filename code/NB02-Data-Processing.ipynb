{
 "cells": [
  {
   "cell_type": "markdown",
   "metadata": {},
   "source": [
    "# 🎧 NB02: Data Processing"
   ]
  },
  {
   "cell_type": "code",
   "execution_count": 1,
   "metadata": {},
   "outputs": [],
   "source": [
    "# Importing the necessary libraries\n",
    "from dotenv import load_dotenv\n",
    "from functions import *\n",
    "from bs4 import BeautifulSoup\n",
    "from pprint import pprint\n",
    "from auth import *\n",
    "from sqlalchemy import create_engine\n",
    "from sklearn.feature_extraction.text import CountVectorizer\n",
    "from nltk.corpus import stopwords\n",
    "import pandas as pd\n",
    "import json\n",
    "import sqlite3\n",
    "import matplotlib.pyplot as plt\n",
    "import re"
   ]
  },
  {
   "cell_type": "code",
   "execution_count": 2,
   "metadata": {},
   "outputs": [],
   "source": [
    "# Defining the function as \"access_token\" for later use\n",
    "access_token = get_token()"
   ]
  },
  {
   "cell_type": "markdown",
   "metadata": {},
   "source": [
    "### Step 1: Cleaning and Manipulating Playlist Data \n",
    "- Reading the top hits playlist and \"girly\" pop playlist JSON files\n",
    "- Normalizing the data and removing duplicate rows\n",
    "- Creating a final combined dataframe of both playlist rows."
   ]
  },
  {
   "cell_type": "code",
   "execution_count": 3,
   "metadata": {},
   "outputs": [],
   "source": [
    "# Reading the JSON file and saving it as \"data\"\n",
    "with open('../data/raw/combined_top_hits.json', 'r') as f:\n",
    "    data = json.load(f)"
   ]
  },
  {
   "cell_type": "code",
   "execution_count": 4,
   "metadata": {},
   "outputs": [],
   "source": [
    "# Processing a list of items from the JSON file, storing it in \"tracks\"\n",
    "tracks = pd.DataFrame([\n",
    "    {\n",
    "        'Track Name': item.get('track', {}).get('name'),\n",
    "        'Track ID': item.get('track', {}).get('id'),\n",
    "        'Artists': \", \".join(artist['name'] for artist in item.get('track', {}).get('artists', []))\n",
    "    }\n",
    "    for item in data['items']\n",
    "])"
   ]
  },
  {
   "cell_type": "code",
   "execution_count": 5,
   "metadata": {},
   "outputs": [],
   "source": [
    "# Converting tracks into a pandas dataframe\n",
    "top_hits = pd.DataFrame(tracks)"
   ]
  },
  {
   "cell_type": "code",
   "execution_count": 6,
   "metadata": {},
   "outputs": [],
   "source": [
    "# Here, I am adding featured artists to the list of artist names and normalizing them, alongside getting the number of artists featured/contributing on a song\n",
    "top_hits['Artists'] = (\n",
    "    top_hits['Artists']\n",
    "    .str.lower()\n",
    "    .str.strip()\n",
    "    .apply(combine_artists)  # Combine main and featured artists\n",
    "    .str.replace('feat.', 'feat', case=False)\n",
    "    .str.strip()\n",
    ")\n",
    "\n",
    "# Count unique artists and add as a new column\n",
    "top_hits['Artist Count'] = top_hits['Artists'].apply(lambda x: len(set(x.split(','))))"
   ]
  },
  {
   "cell_type": "code",
   "execution_count": 7,
   "metadata": {},
   "outputs": [
    {
     "name": "stdout",
     "output_type": "stream",
     "text": [
      "True\n"
     ]
    }
   ],
   "source": [
    "# Seeing if there are any duplicates in the top_hits dataframe\n",
    "duplicates = top_hits.duplicated()\n",
    "print(duplicates.any()) "
   ]
  },
  {
   "cell_type": "code",
   "execution_count": 8,
   "metadata": {},
   "outputs": [
    {
     "name": "stdout",
     "output_type": "stream",
     "text": [
      "            Track Name                Track ID       Artists  Artist Count\n",
      "184  Sign of the Times  5Ohxk2dO5COHF1krpoPigN  harry styles             1\n"
     ]
    }
   ],
   "source": [
    "# Printing duplicate rows\n",
    "duplicate_rows = top_hits[top_hits.duplicated()]\n",
    "print(duplicate_rows)"
   ]
  },
  {
   "cell_type": "code",
   "execution_count": 9,
   "metadata": {},
   "outputs": [
    {
     "name": "stdout",
     "output_type": "stream",
     "text": [
      "<class 'pandas.core.frame.DataFrame'>\n",
      "RangeIndex: 347 entries, 0 to 346\n",
      "Data columns (total 5 columns):\n",
      " #   Column        Non-Null Count  Dtype \n",
      "---  ------        --------------  ----- \n",
      " 0   Track Name    347 non-null    object\n",
      " 1   Track ID      347 non-null    object\n",
      " 2   Artists       347 non-null    object\n",
      " 3   Artist Count  347 non-null    int64 \n",
      " 4   Track_Name    347 non-null    object\n",
      "dtypes: int64(1), object(4)\n",
      "memory usage: 13.7+ KB\n"
     ]
    }
   ],
   "source": [
    "# Cleaning up the duplicates\n",
    "top_hits_clean = (\n",
    "    top_hits.drop_duplicates(keep='first')\n",
    "    .copy()\n",
    "    .assign(\n",
    "        Track_Name=lambda df: df['Track Name'].str.lower().str.strip().str.replace(r'[^\\w\\s]', '', regex=True),\n",
    "        Artists=lambda df: df['Artists'].str.lower().str.strip().str.split(', ')\n",
    "    )\n",
    "    .explode('Artists')\n",
    "    .assign(Artists=lambda df: df['Artists'].str.replace(', ', ' &').astype('category'))\n",
    ")\n",
    "\n",
    "# Save to CSV\n",
    "top_hits_clean.to_csv('../data/processed/top_hits.csv', index=False)\n",
    "\n",
    "# Load and inspect data\n",
    "top_hits_data = pd.read_csv('../data/processed/top_hits.csv')\n",
    "top_hits_data.info()"
   ]
  },
  {
   "cell_type": "markdown",
   "metadata": {},
   "source": [
    "#### Moving on to \"girly pop music\" playlist data"
   ]
  },
  {
   "cell_type": "code",
   "execution_count": 10,
   "metadata": {},
   "outputs": [],
   "source": [
    "with open('../data/raw/combined_women_pop.json', 'r') as f:\n",
    "    data = json.load(f)"
   ]
  },
  {
   "cell_type": "code",
   "execution_count": 11,
   "metadata": {},
   "outputs": [],
   "source": [
    "tracks = pd.DataFrame([\n",
    "    {\n",
    "        'Track Name': item.get('track', {}).get('name'),\n",
    "        'Track ID': item.get('track', {}).get('id'),\n",
    "        'Artists': \", \".join(artist['name'] for artist in item.get('track', {}).get('artists', []))\n",
    "    }\n",
    "    for item in data['items']\n",
    "])"
   ]
  },
  {
   "cell_type": "code",
   "execution_count": 12,
   "metadata": {},
   "outputs": [],
   "source": [
    "women_pop = pd.DataFrame(tracks)"
   ]
  },
  {
   "cell_type": "code",
   "execution_count": 13,
   "metadata": {},
   "outputs": [],
   "source": [
    "women_pop['Artists'] = (\n",
    "    women_pop['Artists']\n",
    "    .str.lower()\n",
    "    .str.strip()\n",
    "    .apply(combine_artists)  # Combine main and featured artists\n",
    "    .str.replace('feat.', 'feat', case=False)\n",
    "    .str.strip()\n",
    ")\n",
    "\n",
    "# Count unique artists and add as a new column\n",
    "women_pop['Artist Count'] = women_pop['Artists'].apply(lambda x: len(set(x.split(','))))"
   ]
  },
  {
   "cell_type": "code",
   "execution_count": 14,
   "metadata": {},
   "outputs": [
    {
     "name": "stdout",
     "output_type": "stream",
     "text": [
      "True\n"
     ]
    }
   ],
   "source": [
    "duplicates = women_pop.duplicated()\n",
    "print(duplicates.any()) "
   ]
  },
  {
   "cell_type": "code",
   "execution_count": 15,
   "metadata": {},
   "outputs": [
    {
     "name": "stdout",
     "output_type": "stream",
     "text": [
      "      Track Name                Track ID    Artists  Artist Count\n",
      "201  Bad Romance  0SiywuOBRcynK0uKGWdCnn  lady gaga             1\n"
     ]
    }
   ],
   "source": [
    "duplicate_rows = women_pop[women_pop.duplicated()]\n",
    "print(duplicate_rows)"
   ]
  },
  {
   "cell_type": "code",
   "execution_count": 16,
   "metadata": {},
   "outputs": [
    {
     "name": "stdout",
     "output_type": "stream",
     "text": [
      "<class 'pandas.core.frame.DataFrame'>\n",
      "RangeIndex: 280 entries, 0 to 279\n",
      "Data columns (total 4 columns):\n",
      " #   Column        Non-Null Count  Dtype \n",
      "---  ------        --------------  ----- \n",
      " 0   Track Name    280 non-null    object\n",
      " 1   Track ID      280 non-null    object\n",
      " 2   Artists       280 non-null    object\n",
      " 3   Artist Count  280 non-null    int64 \n",
      "dtypes: int64(1), object(3)\n",
      "memory usage: 8.9+ KB\n"
     ]
    }
   ],
   "source": [
    "# Cleaning up the duplicates\n",
    "women_pop_clean = (\n",
    "    women_pop.drop_duplicates(keep='first')\n",
    "    .copy()\n",
    "    .assign(\n",
    "        Track_Name=lambda df: df['Track Name'].str.lower().str.strip().str.replace(r'[^\\w\\s]', '', regex=True),\n",
    "        Artists=lambda df: df['Artists'].str.lower().str.strip().str.split(', ')\n",
    "    )\n",
    "    .explode('Artists')\n",
    "    .assign(Artists=lambda df: df['Artists'].str.replace(', ', ' &').astype('category'))\n",
    ")\n",
    "\n",
    "# Save to CSV\n",
    "women_pop.to_csv('../data/processed/women_pop.csv', index=False)\n",
    "\n",
    "# Load and inspect data\n",
    "women_pop_data = pd.read_csv('../data/processed/women_pop.csv')\n",
    "women_pop_data.info()"
   ]
  },
  {
   "cell_type": "code",
   "execution_count": 17,
   "metadata": {},
   "outputs": [],
   "source": [
    "playlist_df = pd.concat([top_hits_data, women_pop_data], ignore_index=True)\n",
    "\n",
    "playlist_df.to_csv('../data/processed/playlists.csv', index=False)\n",
    "\n",
    "playlist_df = pd.read_csv('../data/processed/playlists.csv')\n",
    "\n",
    "duplicates = playlist_df[playlist_df.duplicated()]"
   ]
  },
  {
   "cell_type": "code",
   "execution_count": 18,
   "metadata": {},
   "outputs": [],
   "source": [
    "# Remove duplicates (keep the first occurrence)\n",
    "playlists_clean = playlist_df.drop_duplicates()\n",
    "\n",
    "playlists_clean.to_csv('../data/processed/clean_playlists.csv', index=False)"
   ]
  },
  {
   "cell_type": "markdown",
   "metadata": {},
   "source": [
    "### Step 2: Retreiving top 50 artists\n",
    "I will be retrieving the top 50 artists whose songs feature the most number of times in the combined playlist dataframe. \n"
   ]
  },
  {
   "cell_type": "code",
   "execution_count": 19,
   "metadata": {},
   "outputs": [],
   "source": [
    "clean_df = pd.read_csv(\"../data/processed/clean_playlists.csv\")\n",
    "\n",
    "# Select the 'artists' column (similar to SQL SELECT artists FROM playlists)\n",
    "artists_df = clean_df[['Artists']]"
   ]
  },
  {
   "cell_type": "code",
   "execution_count": 20,
   "metadata": {},
   "outputs": [],
   "source": [
    "# Get the frequency of each artist\n",
    "artist_counts = artists_df['Artists'].value_counts()\n",
    "top_50_artists = artist_counts.head(50)"
   ]
  },
  {
   "cell_type": "code",
   "execution_count": 21,
   "metadata": {},
   "outputs": [],
   "source": [
    "top_50_artists.to_csv('../data/processed/top_50_artists.csv', header=True)"
   ]
  },
  {
   "cell_type": "markdown",
   "metadata": {},
   "source": [
    "Looking at the dataframe, these are the artists that I have chosen to include in my analysis:\n",
    "\n",
    "| Male Artists | Female Arists |\n",
    "| :--: | :--: |\n",
    "| Justin Bieber | Rihanna |\n",
    "| Bruno Mars | Ariana Grande |\n",
    "| Ed Sheeran | Taylor Swift |\n",
    "| Flo Rida | Nicki Minaj |\n",
    "| Pharrell Williams | Britney Spears |\n",
    "\n",
    "I chose these artists based on:\n",
    "1) Gender - I wanted 5 male and 5 female artists\n",
    "2) Pop artist status - To avoid overcomplicating and interfering the data analysis process, I decided to only choose pop artists (including Flo Rida and Nicki Minaj, who are also rap artists but constantly contribute to/feature on pop tracks)\n",
    "3) Relevancy - I chose artists that I think are relevant, popular, and make or have made great contributions to defining 2000s/modern pop music"
   ]
  },
  {
   "cell_type": "markdown",
   "metadata": {},
   "source": [
    "### Step 3: Retrieving top tracks and their lyrics"
   ]
  },
  {
   "cell_type": "code",
   "execution_count": 22,
   "metadata": {},
   "outputs": [],
   "source": [
    "artists_info = {\n",
    "    \"Justin Bieber\": \"1uNFoZAHBGtllmzznpCI3s\",\n",
    "    \"Bruno Mars\": \"0du5cEVh5yTK9QJze8zA0C\",\n",
    "    \"Ed Sheeran\": \"6eUKZXaKkcviH0Ku9w2n3V\",\n",
    "    \"Flo Rida\": \"0jnsk9HBra6NMjO2oANoPY\",\n",
    "    \"Pharrell Williams\": \"2RdwBSPQiwcmiDo9kixcl8\",\n",
    "    \"Rihanna\": \"5pKCCKE2ajJHZ9KAiaK11H\",\n",
    "    \"Ariana Grande\": \"66CXWjxzNUsdJxJ2JdwvnR\",\n",
    "    \"Taylor Swift\": \"06HL4z0CvFAxyc27GXpf02\",\n",
    "    \"Nicki Minaj\": \"0hCNtLu0JehylgoiP8L4Gh\",\n",
    "    \"Britney Spears\": \"26dSoYclwsYLMAKD3tpOr4\"\n",
    "}"
   ]
  },
  {
   "cell_type": "code",
   "execution_count": 23,
   "metadata": {},
   "outputs": [],
   "source": [
    "top_tracks_df = pd.concat(\n",
    "    [pd.DataFrame(get_top_tracks(artist_id, access_token)['tracks']).assign(artist=artist_name)\n",
    "     for artist_name, artist_id in artists_info.items()],\n",
    "    ignore_index=True\n",
    ")"
   ]
  },
  {
   "cell_type": "code",
   "execution_count": 24,
   "metadata": {},
   "outputs": [],
   "source": [
    "# Step 2: Select only relevant columns (create a copy to ensure no warning)\n",
    "combined_tracks = top_tracks_df[['name', 'artist']].copy()\n",
    "\n",
    "# Step 3: Add gender mapping\n",
    "gender_mapping = {\n",
    "    'Justin Bieber': 0,  # Male\n",
    "    'Bruno Mars': 0,\n",
    "    'Ed Sheeran': 0,\n",
    "    'Flo Rida': 0,\n",
    "    'Pharrell Williams': 0,\n",
    "    'Rihanna': 1,        # Female\n",
    "    'Ariana Grande': 1,\n",
    "    'Taylor Swift': 1,\n",
    "    'Nicki Minaj': 1,\n",
    "    'Britney Spears': 1\n",
    "}\n",
    "\n",
    "combined_tracks.loc[:, 'gender'] = combined_tracks['artist'].map(gender_mapping)\n",
    "\n",
    "combined_tracks.to_csv('../data/processed/combined_top_tracks.csv', index=False)\n",
    "\n",
    "combined_tracks = pd.read_csv('../data/processed/combined_top_tracks.csv')"
   ]
  },
  {
   "cell_type": "code",
   "execution_count": 25,
   "metadata": {},
   "outputs": [
    {
     "name": "stdout",
     "output_type": "stream",
     "text": [
      "Searching for \"STAY (with Justin Bieber)\" by Justin Bieber...\n",
      "Done.\n",
      "Searching for \"Ghost\" by Justin Bieber...\n",
      "Done.\n",
      "Searching for \"Love Yourself\" by Justin Bieber...\n",
      "Searching for \"Sorry\" by Justin Bieber...\n",
      "Done.\n",
      "Searching for \"Beauty And A Beat\" by Justin Bieber...\n",
      "Done.\n",
      "Searching for \"Mistletoe\" by Justin Bieber...\n",
      "Done.\n",
      "Searching for \"Baby\" by Justin Bieber...\n",
      "Done.\n",
      "Searching for \"bad guy\" by Justin Bieber...\n",
      "Done.\n",
      "Searching for \"I Don't Care (with Justin Bieber)\" by Justin Bieber...\n",
      "Done.\n",
      "Searching for \"What Do You Mean?\" by Justin Bieber...\n",
      "Done.\n",
      "Searching for \"Die With A Smile\" by Bruno Mars...\n",
      "Done.\n",
      "Searching for \"APT.\" by Bruno Mars...\n",
      "Done.\n",
      "Searching for \"Locked out of Heaven\" by Bruno Mars...\n",
      "Done.\n",
      "Searching for \"Just the Way You Are\" by Bruno Mars...\n",
      "Searching for \"That's What I Like\" by Bruno Mars...\n",
      "Done.\n",
      "Searching for \"When I Was Your Man\" by Bruno Mars...\n",
      "Done.\n",
      "Searching for \"Grenade\" by Bruno Mars...\n",
      "Done.\n",
      "Searching for \"It Will Rain\" by Bruno Mars...\n",
      "Done.\n",
      "Searching for \"Talking to the Moon\" by Bruno Mars...\n",
      "Done.\n",
      "Searching for \"Marry You\" by Bruno Mars...\n",
      "Done.\n",
      "Searching for \"Shape of You\" by Ed Sheeran...\n",
      "Searching for \"Perfect\" by Ed Sheeran...\n",
      "Done.\n",
      "Searching for \"Photograph\" by Ed Sheeran...\n",
      "Done.\n",
      "Searching for \"Shivers\" by Ed Sheeran...\n",
      "Done.\n",
      "Searching for \"Thinking out Loud\" by Ed Sheeran...\n",
      "Done.\n",
      "Searching for \"I Don't Care (with Justin Bieber)\" by Ed Sheeran...\n",
      "Done.\n",
      "Searching for \"Bad Habits\" by Ed Sheeran...\n",
      "Done.\n",
      "Searching for \"Merry Christmas\" by Ed Sheeran...\n",
      "Done.\n",
      "Searching for \"Castle on the Hill\" by Ed Sheeran...\n",
      "Done.\n",
      "Searching for \"Galway Girl\" by Ed Sheeran...\n",
      "Done.\n",
      "Searching for \"Low (feat. T-Pain)\" by Flo Rida...\n",
      "Done.\n",
      "Searching for \"Right Round\" by Flo Rida...\n",
      "Done.\n",
      "Searching for \"Wild Ones (feat. Sia)\" by Flo Rida...\n",
      "Done.\n",
      "Searching for \"My House\" by Flo Rida...\n",
      "Done.\n",
      "Searching for \"Club Can't Handle Me (feat. David Guetta)\" by Flo Rida...\n",
      "Done.\n",
      "Searching for \"Good Feeling\" by Flo Rida...\n",
      "Done.\n",
      "Searching for \"Whistle\" by Flo Rida...\n",
      "Done.\n",
      "Searching for \"I Cry\" by Flo Rida...\n",
      "Done.\n",
      "Searching for \"GDFR (feat. Sage the Gemini & Lookas)\" by Flo Rida...\n",
      "Done.\n",
      "Searching for \"Sugar (feat. Wynter)\" by Flo Rida...\n",
      "Done.\n",
      "Searching for \"Happy - From \"Despicable Me 2\"\" by Pharrell Williams...\n",
      "No results found for: 'Happy - From \"Despicable Me 2\" Pharrell Williams'\n",
      "Searching for \"Get Lucky (Radio Edit) [feat. Pharrell Williams and Nile Rodgers]\" by Pharrell Williams...\n",
      "Done.\n",
      "Searching for \"Committed\" by Pharrell Williams...\n",
      "Done.\n",
      "Searching for \"Double Life - From \"Despicable Me 4\"\" by Pharrell Williams...\n",
      "Done.\n",
      "Searching for \"Feels (feat. Pharrell Williams, Katy Perry & Big Sean)\" by Pharrell Williams...\n",
      "Done.\n",
      "Searching for \"Get Lucky (feat. Pharrell Williams and Nile Rodgers)\" by Pharrell Williams...\n",
      "Done.\n",
      "Searching for \"Neon Guts (feat. Pharrell Williams)\" by Pharrell Williams...\n",
      "Done.\n",
      "Searching for \"Lose Yourself to Dance (feat. Pharrell Williams)\" by Pharrell Williams...\n",
      "Done.\n",
      "Searching for \"Hit Different\" by Pharrell Williams...\n",
      "Done.\n",
      "Searching for \"Cash In Cash Out\" by Pharrell Williams...\n",
      "Done.\n",
      "Searching for \"We Found Love\" by Rihanna...\n",
      "Done.\n",
      "Searching for \"Only Girl (In The World)\" by Rihanna...\n",
      "Done.\n",
      "Searching for \"Love On The Brain\" by Rihanna...\n",
      "Done.\n",
      "Searching for \"Umbrella\" by Rihanna...\n",
      "Searching for \"Stay\" by Rihanna...\n",
      "Done.\n",
      "Searching for \"S&M\" by Rihanna...\n",
      "Done.\n",
      "Searching for \"Don't Stop The Music\" by Rihanna...\n",
      "Done.\n",
      "Searching for \"Diamonds\" by Rihanna...\n",
      "Done.\n",
      "Searching for \"Breakin' Dishes\" by Rihanna...\n",
      "Done.\n",
      "Searching for \"Needed Me\" by Rihanna...\n",
      "Done.\n",
      "Searching for \"we can't be friends (wait for your love)\" by Ariana Grande...\n",
      "Done.\n",
      "Searching for \"Santa Tell Me\" by Ariana Grande...\n",
      "Done.\n",
      "Searching for \"the boy is mine\" by Ariana Grande...\n",
      "Done.\n",
      "Searching for \"One Last Time\" by Ariana Grande...\n",
      "Done.\n",
      "Searching for \"7 rings\" by Ariana Grande...\n",
      "Done.\n",
      "Searching for \"Save Your Tears (Remix) (with Ariana Grande) - Bonus Track\" by Ariana Grande...\n",
      "Done.\n",
      "Searching for \"intro (end of the world)\" by Ariana Grande...\n",
      "Done.\n",
      "Searching for \"Die For You (with Ariana Grande) - Remix\" by Ariana Grande...\n",
      "Done.\n",
      "Searching for \"Dangerous Woman\" by Ariana Grande...\n",
      "Done.\n",
      "Searching for \"Into You\" by Ariana Grande...\n",
      "Done.\n",
      "Searching for \"Cruel Summer\" by Taylor Swift...\n",
      "Done.\n",
      "Searching for \"Fortnight (feat. Post Malone)\" by Taylor Swift...\n",
      "Done.\n",
      "Searching for \"I Can Do It With a Broken Heart\" by Taylor Swift...\n",
      "Done.\n",
      "Searching for \"august\" by Taylor Swift...\n",
      "Done.\n",
      "Searching for \"cardigan\" by Taylor Swift...\n",
      "Done.\n",
      "Searching for \"Lover\" by Taylor Swift...\n",
      "Done.\n",
      "Searching for \"Don’t Blame Me\" by Taylor Swift...\n",
      "Done.\n",
      "Searching for \"Anti-Hero\" by Taylor Swift...\n",
      "Done.\n",
      "Searching for \"Blank Space\" by Taylor Swift...\n",
      "Done.\n",
      "Searching for \"Guilty as Sin?\" by Taylor Swift...\n",
      "Done.\n",
      "Searching for \"Starships\" by Nicki Minaj...\n",
      "Done.\n",
      "Searching for \"Bang Bang\" by Nicki Minaj...\n",
      "Done.\n",
      "Searching for \"AGATS2 (Insecure) [with Nicki Minaj]\" by Nicki Minaj...\n",
      "Done.\n",
      "Searching for \"Super Bass\" by Nicki Minaj...\n",
      "Done.\n",
      "Searching for \"Tusa\" by Nicki Minaj...\n",
      "Done.\n",
      "Searching for \"Swalla (feat. Nicki Minaj & Ty Dolla $ign)\" by Nicki Minaj...\n",
      "Done.\n",
      "Searching for \"Super Freaky Girl\" by Nicki Minaj...\n",
      "Done.\n",
      "Searching for \"Barbie World (with Aqua) [From Barbie The Album]\" by Nicki Minaj...\n",
      "Done.\n",
      "Searching for \"The Night Is Still Young\" by Nicki Minaj...\n",
      "Done.\n",
      "Searching for \"FTCU\" by Nicki Minaj...\n",
      "Done.\n",
      "Searching for \"Toxic\" by Britney Spears...\n",
      "Searching for \"...Baby One More Time\" by Britney Spears...\n",
      "Done.\n",
      "Searching for \"Gimme More\" by Britney Spears...\n",
      "Done.\n",
      "Searching for \"Oops!...I Did It Again\" by Britney Spears...\n",
      "Done.\n",
      "Searching for \"Circus\" by Britney Spears...\n",
      "Done.\n",
      "Searching for \"Womanizer\" by Britney Spears...\n",
      "Done.\n",
      "Searching for \"My Only Wish (This Year)\" by Britney Spears...\n",
      "Done.\n",
      "Searching for \"Hold Me Closer\" by Britney Spears...\n",
      "Done.\n",
      "Searching for \"Criminal\" by Britney Spears...\n",
      "Done.\n",
      "Searching for \"If U Seek Amy\" by Britney Spears...\n",
      "Done.\n"
     ]
    }
   ],
   "source": [
    "# Step 3: Apply the function to the DataFrame to fetch lyrics for each song\n",
    "combined_tracks['lyrics'] = combined_tracks.apply(fetch_lyrics, axis=1)\n",
    "\n",
    "# Step 4: Save the updated DataFrame with lyrics back to a new CSV\n",
    "combined_tracks.to_csv('../data/raw/lyrics.csv', index=False)"
   ]
  },
  {
   "cell_type": "code",
   "execution_count": 26,
   "metadata": {},
   "outputs": [],
   "source": [
    "lyrics = pd.read_csv('../data/raw/lyrics.csv')\n",
    "\n",
    "# Step 2: Use regex to remove text between \"embed\" and \"lyrics\", including the words \"embed\" and \"lyrics\"\n",
    "lyrics['lyrics'] = lyrics['lyrics'].str.replace(r'embed.*?lyrics', '', regex=True)\n",
    "\n",
    "# Step 3: Save the updated DataFrame to a new CSV\n",
    "lyrics.to_csv('../data/processed/cleaned_lyrics.csv', index=False)"
   ]
  },
  {
   "cell_type": "code",
   "execution_count": 27,
   "metadata": {},
   "outputs": [],
   "source": [
    "cleaned_lyrics = pd.read_csv('../data/processed/cleaned_lyrics.csv')\n",
    "cleaned_lyrics = pd.DataFrame(cleaned_lyrics)"
   ]
  },
  {
   "cell_type": "code",
   "execution_count": 28,
   "metadata": {},
   "outputs": [],
   "source": [
    "cleaned_lyrics['lyrics'] = cleaned_lyrics['lyrics'].str.replace(\n",
    "    r'ContributorsTranslations.*?Lyrics', 'Lyrics', regex=True\n",
    ")\n",
    "\n",
    "# Step 3: Save the updated DataFrame to a new CSV\n",
    "cleaned_lyrics.to_csv('../data/processed/final_lyrics.csv', index=False)\n",
    "\n",
    "# Reload the cleaned CSV for verification\n",
    "final_lyrics = pd.read_csv('../data/processed/final_lyrics.csv')"
   ]
  },
  {
   "cell_type": "code",
   "execution_count": 29,
   "metadata": {},
   "outputs": [],
   "source": [
    "error_rows = final_lyrics[final_lyrics['lyrics'].str.contains('Error fetching lyrics|not found', na=False)]"
   ]
  },
  {
   "cell_type": "code",
   "execution_count": 30,
   "metadata": {},
   "outputs": [],
   "source": [
    "final_lyrics['lyrics'] = final_lyrics.apply(\n",
    "    lambda row: row['lyrics'] if pd.notnull(row['lyrics']) else safe_get_song_lyrics(row),\n",
    "    axis=1\n",
    ")\n",
    "# Save the updated DataFrame back to the CSV\n",
    "final_lyrics.to_csv('../data/processed/final_lyrics_updated.csv', index=False)"
   ]
  },
  {
   "cell_type": "code",
   "execution_count": 31,
   "metadata": {},
   "outputs": [],
   "source": [
    "error_rows = final_lyrics[final_lyrics['lyrics'].str.contains('Error fetching lyrics|not found', na=False)]"
   ]
  },
  {
   "cell_type": "code",
   "execution_count": 32,
   "metadata": {},
   "outputs": [
    {
     "name": "stdout",
     "output_type": "stream",
     "text": [
      "Searching for: Happy\n",
      "Searching for \"Happy\" by Pharrell Williams...\n",
      "Done.\n",
      "Found lyrics for: Happy\n",
      "Song 'Happy' by Pharrell Williams not found in the DataFrame.\n"
     ]
    }
   ],
   "source": [
    "happy = get_song_lyrics_with_variations(\"Happy\", \"Pharrell Williams\")\n",
    "\n",
    "final_lyrics_updated = pd.read_csv('../data/processed/final_lyrics_updated.csv')\n",
    "\n",
    "# Check if the song exists in the DataFrame\n",
    "row_index = final_lyrics_updated[\n",
    "    (final_lyrics_updated['name'] == \"Happy\") & \n",
    "    (final_lyrics_updated['artist'] == \"Pharrell Williams\")\n",
    "].index\n",
    "\n",
    "# If the song is found, update its lyrics\n",
    "if not row_index.empty:\n",
    "    final_lyrics_updated.at[row_index[0], 'lyrics'] = lyrics\n",
    "    print(f\"Lyrics updated for: {\"Happy\"} by {\"Pharrell Williams\"}\")\n",
    "else:\n",
    "    print(f\"Song '{\"Happy\"}' by {\"Pharrell Williams\"} not found in the DataFrame.\")\n",
    "\n",
    "# Save the updated DataFrame\n",
    "final_lyrics_updated.to_csv('../data/processed/final_lyrics_updated.csv', index=False)"
   ]
  },
  {
   "cell_type": "markdown",
   "metadata": {},
   "source": [
    "Here, I am manually looking at the rows where the lyrics were not available (not an error but an issue of availability). In the next chunk, I'll be removing these"
   ]
  },
  {
   "cell_type": "code",
   "execution_count": 33,
   "metadata": {},
   "outputs": [
    {
     "name": "stdout",
     "output_type": "stream",
     "text": [
      "Searching for \"Swalla Nicki Minaj\" by Nicki Minaj...\n",
      "Done.\n",
      "Searching for \"Super Nicki Minaj\" by Nicki Minaj...\n",
      "Done.\n",
      "Searching for \"I Taylor Swift\" by Taylor Swift...\n",
      "Done.\n",
      "Searching for \"Dangerous Ariana Grande\" by Ariana Grande...\n",
      "Done.\n",
      "Searching for \"Save Ariana Grande\" by Ariana Grande...\n",
      "Done.\n",
      "Searching for \"Cash Pharrell Williams\" by Pharrell Williams...\n",
      "Done.\n",
      "Searching for \"Get Pharrell Williams\" by Pharrell Williams...\n",
      "Done.\n",
      "Searching for \"Get Pharrell Williams\" by Pharrell Williams...\n",
      "Done.\n",
      "Searching for \"My Flo Rida\" by Flo Rida...\n",
      "Done.\n",
      "Searching for \"Right Flo Rida\" by Flo Rida...\n",
      "Done.\n",
      "Searching for \"Bad Ed Sheeran\" by Ed Sheeran...\n",
      "Done.\n",
      "Searching for \"I Justin Bieber\" by Justin Bieber...\n",
      "Done.\n",
      "Searching for \"STAY Justin Bieber\" by Justin Bieber...\n",
      "Done.\n"
     ]
    }
   ],
   "source": [
    "# Read the CSV and refetch lyrics in one step\n",
    "updated_lyrics_df = refetch_lyrics_for_top_tracks(\n",
    "    pd.read_csv('../data/processed/final_lyrics_updated.csv'), \n",
    "    indices_to_refetch\n",
    ")\n",
    "\n",
    "# Save the updated DataFrame back to a CSV file\n",
    "updated_lyrics_df.to_csv(\"../data/processed/final_lyrics_final.csv\", index=False)\n",
    "\n",
    "# Reload the updated DataFrame (if further processing is required)\n",
    "lyrics = updated_lyrics_df.copy()"
   ]
  },
  {
   "cell_type": "code",
   "execution_count": null,
   "metadata": {},
   "outputs": [],
   "source": [
    "# Renaming the columns in my lyrics dataframe\n",
    "# Matching those in the playlists dataframe, as they are more readable/explanatory\n",
    "lyrics.rename(columns={\n",
    "    'name': 'Track Name',\n",
    "    'artist': 'Artists',\n",
    "    'gender': 'Gender',\n",
    "    'lyrics': 'Lyrics'\n",
    "}, inplace=True)\n",
    "\n",
    "# Saving the updated dataframe back to the CSV\n",
    "lyrics.to_csv('../data/processed/final_lyrics_final.csv', index=False)"
   ]
  },
  {
   "cell_type": "code",
   "execution_count": 35,
   "metadata": {},
   "outputs": [],
   "source": [
    "# Preprocess lyrics and save directly to a CSV file\n",
    "lyrics['Lyrics'] = lyrics['Lyrics'].apply(preprocess_lyrics)\n",
    "lyrics.to_csv('../data/processed/final_lyrics_final.csv', index=False)\n",
    "\n",
    "# Reload the updated DataFrame if further processing is required\n",
    "lyrics_df = pd.read_csv('../data/processed/final_lyrics_final.csv')"
   ]
  },
  {
   "cell_type": "code",
   "execution_count": null,
   "metadata": {},
   "outputs": [
    {
     "name": "stdout",
     "output_type": "stream",
     "text": [
      "\n",
      "Total number of 'No match found' entries: 0\n",
      "\n",
      "Total number of 'No match found' entries: 0\n",
      "Playlists Table Data:\n",
      "[('glad you came', '5yDL13y5giogKs2fSNf7sj', 'the wanted', 1), ('dark horse', '5jrdCoLpJSvHHorevXBATy', 'juicy j', 2), ('closer', '7BKLCZ1jbUBVqRi2FVlTVw', 'halsey', 2), ('peaches (feat. daniel caesar & giveon)', '4iJyoBOLtHqaGxP12qzhQI', 'daniel caesar', 3), ('peaches (feat. daniel caesar & giveon)', '4iJyoBOLtHqaGxP12qzhQI', 'giveon', 3)]\n",
      "Top Tracks Table Data:\n",
      "[('stay (with justin bieber)', 'justin bieber', '0', \" contributorsi do the same thing i told you that i never would\\ni told you i'd change even when i knew i never could\\ni know that i cant find nobody else as good as you\\ni need you to stay need you to stay hey oh\\n\\n\\ni get drunk wake up i'm wasted still\\ni realize the time that i wasted here\\ni feel like you can't feel the way i feel\\noh ill be fucked up if you can't be right here\\n\\n\\noh oohwoah oh oohwoah oohwoah\\noh oohwoah oh oohwoah oohwoah\\noh oohwoah oh oohwoah oohwoah\\noh i'll be fucked up if you can't be right here\\n\\n\\ni do the same thing i told you that i never would\\ni told you i'd change even when i knew i never could\\ni know that i can't find nobody else as good as you\\ni need you to stay need you to stay hey\\ni do the same thing i told you that i never would\\ni told you i'd change even when i knew i never could\\ni know that i can't find nobody else as good as you\\ni need you to stay need you to stay hey\\nyou might also like\\nwhen im away from you i miss your touch ooh\\nyoure the reason i believe in love\\nit's been difficult for me to trust ooh\\nand im afraid that i'ma fuck it up\\nain't no way that i can leave you stranded\\n'cause you aint ever left me emptyhanded\\nand you know that i know that i can't live without you\\nso baby stay\\n\\n\\noh oohwoah oh oohwoah oohwoah\\noh oohwoah oh oohwoah oohwoah\\noh oohwoah oh oohwoah oohwoah\\ni'll be fucked up if you can't be right here\\n\\n\\ni do the same thing i told you that i never would\\ni told you i'd change even when i knew i never could\\ni know that i can't find nobody else as good as you\\ni need you to stay need you to stay hey\\ni do the same thing i told you that i never would\\ni told you i'd change even when i knew i never could\\ni know that i can't find nobody else as good as you\\ni need you to stay need you to stay hey\\n\\nwoahoh\\ni need you to stay need you to stay heyembed\"), ('ghost', 'justin bieber', '0', \" lyricsverse \\nyoungblood thinks there's always tomorrow\\ni miss your touch some nights when i'm hollow\\ni know you crossed a bridge that i can't follow\\nsince the love that you left is all that i\\u205fget\\u205fi\\u205fwant you to\\u205fknow\\n\\nchorus\\nthat if i\\u205fcan't be close to you\\ni'll settle for the ghost of you\\ni miss you more than life more than life\\nand if you can't be next to me\\nyour memory is ecstasy\\ni miss you more than life\\ni miss you more than life\\n\\nverse \\nyoungblood thinks there's always tomorrow\\ni need more time but time can't be borrowed\\ni'd leave it all behind if i could follow\\nsince the love that you left is all that i get i want you to know\\n\\nchorus\\nthat if i can't be close to you\\ni'll settle for the ghost of you\\ni miss you more than life yeah\\nand if you can't be next to me\\nyour memory is ecstasy oh\\ni miss you more than life\\ni miss you more than life\\nyou might also likebridge\\nwoah\\nnanana\\nmore than life oh\\n\\nchorus\\nso if i can't get close to you\\ni'll settle for the ghost of you\\ni miss you more than life\\nand if you can't be next to me\\nyour memory is ecstasy\\ni miss you more than life\\ni miss you more than lifeembed\"), ('love yourself', 'justin bieber', '0', \"error fetching lyrics for 'love yourself' by justin bieber request timed out\\nhttpsconnectionpoolhost'geniuscom' port read timed out read timeout\"), ('sorry', 'justin bieber', '0', \" lyricswritten by julia michaels justin tranter and justin bieber\\n\\nverse \\nyou gotta go and get angry at all of my honesty\\nyou know i try but i don't do too well with apologies\\ni hope i don't run out of time could someone call a referee\\n'cause i just need one more shot at forgiveness\\ni know you know that i made those mistakes maybe once or twice\\nand by once or twice i mean maybe a couple of hundred times\\nso let me oh let me redeem oh redeem oh myself tonight\\n'cause i just need one more shot at second chances\\n\\nchorus\\nyeah is it too late now to say sorry\\n'cause i'm missing more than just your body\\noh is it too late now to say sorry\\nyeah i know that i let you down\\nis it too late to say i'm sorry now\\n\\ndrop\\ni'm sorry yeah\\nsorry yeah\\nsorry\\nyeah i know that i let you down\\nis it too late to say i'm sorry now\\nyou might also likeverse \\ni'll take every single piece of the blame if you want me to\\nbut you know that there is no innocent one in this game for two\\ni'll go i'll go and then you go you go out and spill the truth\\ncan we both say the words and forget this\\n\\nchorus\\nyeah is it too late now to say sorry\\n'cause i'm missing more than just your body\\noh is it too late now to say sorry\\nyeah i know that i let you down\\nis it too late to say i'm sorry now\\ni'm not just tryna get you back on me oh no no\\n'cause i'm missing more than just your body your body\\noh is it too late now to say sorry\\nyeah i know that i let you down\\nis it too late to say i'm sorry now\\n\\ndrop\\ni'm sorry yeah\\nsorry oh\\nsorry\\nyeah i know that i let you down i know i let you down\\nis it too late to say i'm sorry now\\ni'm sorry yeah\\nsorry oh\\nsorry\\nyeah i know that i let you down i know i let you down\\nis it too late to say i'm sorry nowembed\"), ('beauty and a beat', 'justin bieber', '0', \" lyricsintro nicki minaj\\nyeah\\nyoung money\\nnicki minaj\\njustin rrr\\n\\nverse  justin bieber\\nshow you off\\ntonight i wanna show you off ayyayyayy\\nwhat you got\\na billion could've never bought ayyayyayy\\n\\nprechorus justin bieber\\nwe gonna party like it's  tonight\\ni wanna show you all the finer things in life\\nso just forget about the world we young tonight\\ni'm coming for ya i'm coming for ya\\n\\nchorus justin bieber\\n'cause all i need\\nis a beauty and a beat\\nwho can make my life complete\\nit's all 'bout you\\nwhen the music makes you move\\nbaby do it like you do\\ncause all\\nyou might also likeinstrumental drop\\n\\nverse  justin bieber\\nbody rock\\ngirl i can feel your body rock ayyayyayy\\ntake a bow\\nyou're on the hottest ticket now ooh ayyayyayy\\n\\nprechorus justin bieber\\nwe gonna party like it's  tonight\\ni want to show you all the finer things in life\\nso just forget about the world we young tonight\\ni'm coming for ya i'm coming for ya\\n\\nchorus justin bieber  nicki minaj\\n'cause all i need\\nis a beauty and a beat\\nwho can make my life complete\\nit's all 'bout you\\nwhen the music makes you move\\nbaby do it like you do uh uh\\ncause all\\n\\nverse  nicki minaj justin bieber\\niiiiin time ink lines\\nbbbitches couldn't get on my incline\\nworld tours iiit's mine\\nten little letters on a big sign\\njustin bieber\\nyou know i'ma hit 'em with the ether\\nbuns out wiener\\nbut i gotta keep an eye out for selener\\nbbbeauty beauty and the beast\\nbeauty from the east\\nbeautiful confessions of the priest\\nbeast beauty from the streets\\nbeat will get deceased\\nevery time beauty on the beat eats\\nbody rock yeah yeah\\noh yeah yeah\\ni wanna feel your body rock let's go let's go\\nfrrrrr yeah\\nchorus justin bieber\\n'cause all i need all i need is love\\nis a beauty and a beat a beat\\nwho can make my life complete complete ohohoh oh woah\\nit's all 'bout you all i need is you\\nwhen the music makes you move\\nbaby do it like you do do\\ncause all\\n\\ninstrumental dropembed\")]\n"
     ]
    }
   ],
   "source": [
    "# Loading the dataframes from the CSV files\n",
    "clean_playlists_df = pd.read_csv('../data/processed/clean_playlists.csv')\n",
    "final_lyrics_final_df = pd.read_csv('../data/processed/final_lyrics_final.csv')\n",
    "\n",
    "# Cleaning both 'Track Name' and 'Artists' columns in both dataframes\n",
    "clean_playlists_df['Track Name'] = clean_playlists_df['Track Name'].str.strip().str.lower()\n",
    "clean_playlists_df['Artists'] = clean_playlists_df['Artists'].str.strip().str.lower()\n",
    "\n",
    "final_lyrics_final_df['Track Name'] = final_lyrics_final_df['Track Name'].str.strip().str.lower()\n",
    "final_lyrics_final_df['Artists'] = final_lyrics_final_df['Artists'].str.strip().str.lower()\n",
    "\n",
    "# Connecting to and creating the SQLite database\n",
    "conn = sqlite3.connect('../data/spotify.db')\n",
    "cursor = conn.cursor()\n",
    "\n",
    "# Enabling foreign key support, to later define Artists as the foreign key between the two tables\n",
    "cursor.execute(\"PRAGMA foreign_keys = ON;\")\n",
    "\n",
    "# Dropping tables if they exist to ensure clean setup\n",
    "cursor.execute(\"DROP TABLE IF EXISTS playlists;\")\n",
    "cursor.execute(\"DROP TABLE IF EXISTS top_tracks;\")\n",
    "\n",
    "# Creating the 'playlists' table with 'Artists' as a primary key\n",
    "cursor.execute(\"\"\"\n",
    "CREATE TABLE IF NOT EXISTS playlists (\n",
    "    \"Track Name\" TEXT NOT NULL,\n",
    "    \"Track ID\" TEXT,\n",
    "    \"Artists\" TEXT NOT NULL,\n",
    "    \"Artist Count\" INTEGER,\n",
    "    PRIMARY KEY (\"Artists\")\n",
    ");\n",
    "\"\"\")\n",
    "\n",
    "# Inserting data from 'clean_playlists_df' into the 'playlists' table\n",
    "cursor.executemany(\"\"\"\n",
    "INSERT OR REPLACE INTO playlists (\"Track Name\", \"Track ID\", \"Artists\", \"Artist Count\")\n",
    "VALUES (?, ?, ?, ?)\n",
    "\"\"\", clean_playlists_df[['Track Name', 'Track ID', 'Artists', 'Artist Count']].values)\n",
    "\n",
    "# Creating the 'top_tracks' table with foreign key reference to 'Artists'\n",
    "cursor.execute(\"\"\"\n",
    "CREATE TABLE IF NOT EXISTS top_tracks (\n",
    "    \"Track Name\" TEXT NOT NULL,\n",
    "    \"Artists\" TEXT NOT NULL,\n",
    "    \"Gender\" TEXT,\n",
    "    \"Lyrics\" TEXT,\n",
    "    FOREIGN KEY (\"Artists\") REFERENCES playlists(\"Artists\")\n",
    ");\n",
    "\"\"\")\n",
    "\n",
    "# Fetch artists from the playlists table\n",
    "cursor.execute('SELECT \"Artists\" FROM playlists')\n",
    "existing_artists = set(row[0] for row in cursor.fetchall())  # Create a set of existing artists\n",
    "\n",
    "# Filter the final_lyrics_final_df DataFrame to include only matching artists\n",
    "filtered_df = final_lyrics_final_df[final_lyrics_final_df['Artists'].isin(existing_artists)]\n",
    "\n",
    "# Insert matching rows into the 'top_tracks' table using executemany\n",
    "cursor.executemany(\"\"\"\n",
    "INSERT OR REPLACE INTO top_tracks (\"Track Name\", \"Artists\", \"Gender\", \"Lyrics\")\n",
    "VALUES (?, ?, ?, ?)\n",
    "\"\"\", filtered_df[['Track Name', 'Artists', 'Gender', 'Lyrics']].values)\n",
    "\n",
    "# Check how many rows didn't match\n",
    "no_match_count = len(final_lyrics_final_df) - len(filtered_df)\n",
    "print(f\"\\nTotal number of 'No match found' entries: {no_match_count}\")\n",
    "\n",
    "# Committing the changes to the database\n",
    "conn.commit()\n",
    "\n",
    "# Checking how many matches were missing\n",
    "print(f\"\\nTotal number of 'No match found' entries: {no_match_count}\")\n",
    "\n",
    "# Verifying the data in the tables\n",
    "cursor.execute(\"SELECT * FROM playlists LIMIT 5;\")\n",
    "print(\"Playlists Table Data:\")\n",
    "print(cursor.fetchall())\n",
    "\n",
    "cursor.execute(\"SELECT * FROM top_tracks LIMIT 5;\")\n",
    "print(\"Top Tracks Table Data:\")\n",
    "print(cursor.fetchall())\n",
    "\n",
    "# Closing the connection\n",
    "conn.close()"
   ]
  },
  {
   "cell_type": "markdown",
   "metadata": {},
   "source": [
    "Click [here](https://github.com/lse-ds105/w10-summative-deyavuz/tree/main?tab=readme-ov-file#table-of-contents) to navigate back to the Table of Contents!"
   ]
  }
 ],
 "metadata": {
  "kernelspec": {
   "display_name": "base",
   "language": "python",
   "name": "python3"
  },
  "language_info": {
   "codemirror_mode": {
    "name": "ipython",
    "version": 3
   },
   "file_extension": ".py",
   "mimetype": "text/x-python",
   "name": "python",
   "nbconvert_exporter": "python",
   "pygments_lexer": "ipython3",
   "version": "3.12.2"
  }
 },
 "nbformat": 4,
 "nbformat_minor": 2
}
